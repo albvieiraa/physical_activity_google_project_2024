{
 "cells": [
  {
   "cell_type": "markdown",
   "id": "0437b829",
   "metadata": {
    "_cell_guid": "b1076dfc-b9ad-4769-8c92-a6c4dae69d19",
    "_uuid": "8f2839f25d086af736a60e9eeb907d3b93b6e0e5",
    "execution": {
     "iopub.execute_input": "2024-01-23T21:40:02.994043Z",
     "iopub.status.busy": "2024-01-23T21:40:02.992817Z",
     "iopub.status.idle": "2024-01-23T21:40:03.614468Z",
     "shell.execute_reply": "2024-01-23T21:40:03.613212Z",
     "shell.execute_reply.started": "2024-01-23T21:40:02.993979Z"
    },
    "papermill": {
     "duration": 0.009676,
     "end_time": "2024-06-10T12:05:00.559688",
     "exception": false,
     "start_time": "2024-06-10T12:05:00.550012",
     "status": "completed"
    },
    "tags": []
   },
   "source": [
    "# This Python 3 environment comes with many helpful analytics libraries installed\n",
    "# It is defined by the kaggle/python Docker image: https://github.com/kaggle/docker-python\n",
    "# For example, here's several helpful packages to load\n",
    "\n",
    "import numpy as np # linear algebra\n",
    "import pandas as pd # data processing, CSV file I/O (e.g. pd.read_csv)\n",
    "\n",
    "# Input data files are available in the read-only \"../input/\" directory\n",
    "# For example, running this (by clicking run or pressing Shift+Enter) will list all files under the input directory\n",
    "\n",
    "import os\n",
    "for dirname, _, filenames in os.walk('/kaggle/input'):\n",
    "    for filename in filenames:\n",
    "        print(os.path.join(dirname, filename))\n",
    "\n",
    "# You can write up to 20GB to the current directory (/kaggle/working/) that gets preserved as output when you create a version using \"Save & Run All\" \n",
    "# You can also write temporary files to /kaggle/temp/, but they won't be saved outside of the current session"
   ]
  },
  {
   "cell_type": "markdown",
   "id": "fa781c86",
   "metadata": {
    "papermill": {
     "duration": 0.00973,
     "end_time": "2024-06-10T12:05:00.579052",
     "exception": false,
     "start_time": "2024-06-10T12:05:00.569322",
     "status": "completed"
    },
    "tags": []
   },
   "source": [
    "Projeto da certificação do Google Data Analysis.\n",
    "- A preparação dos dados foi realizada com auxílio do tutorial encontrado no seguinte link: https://www.youtube.com/watch?v=JsI71WjM5bo&t=164s&ab_channel=JuanMart%C3%ADnezII\n",
    "\n",
    "- Apesar de simplificada, a análise foi feita com o objetivo de praticar e com o tempo terá updates."
   ]
  },
  {
   "cell_type": "code",
   "execution_count": 1,
   "id": "80ade51a",
   "metadata": {
    "execution": {
     "iopub.execute_input": "2024-06-10T12:05:00.599612Z",
     "iopub.status.busy": "2024-06-10T12:05:00.599040Z",
     "iopub.status.idle": "2024-06-10T12:05:03.072394Z",
     "shell.execute_reply": "2024-06-10T12:05:03.070990Z"
    },
    "papermill": {
     "duration": 2.48763,
     "end_time": "2024-06-10T12:05:03.075959",
     "exception": false,
     "start_time": "2024-06-10T12:05:00.588329",
     "status": "completed"
    },
    "tags": []
   },
   "outputs": [],
   "source": [
    "import numpy as np\n",
    "import pandas as pd\n",
    "import matplotlib.pyplot as plt\n",
    "import seaborn as sns\n",
    "plt.style.use('ggplot')\n",
    "import datetime as dt\n",
    "\n",
    "#pd.set.option('max_column')"
   ]
  },
  {
   "cell_type": "code",
   "execution_count": 2,
   "id": "5b3d6a4c",
   "metadata": {
    "execution": {
     "iopub.execute_input": "2024-06-10T12:05:03.101231Z",
     "iopub.status.busy": "2024-06-10T12:05:03.100617Z",
     "iopub.status.idle": "2024-06-10T12:05:03.136749Z",
     "shell.execute_reply": "2024-06-10T12:05:03.135308Z"
    },
    "papermill": {
     "duration": 0.052684,
     "end_time": "2024-06-10T12:05:03.139583",
     "exception": false,
     "start_time": "2024-06-10T12:05:03.086899",
     "status": "completed"
    },
    "tags": []
   },
   "outputs": [],
   "source": [
    "#preparing data\n",
    "df = pd.read_csv('/kaggle/input/fitbit/mturkfitbit_export_4.12.16-5.12.16/Fitabase Data 4.12.16-5.12.16/dailyActivity_merged.csv')"
   ]
  },
  {
   "cell_type": "code",
   "execution_count": 3,
   "id": "22fca942",
   "metadata": {
    "execution": {
     "iopub.execute_input": "2024-06-10T12:05:03.160406Z",
     "iopub.status.busy": "2024-06-10T12:05:03.159947Z",
     "iopub.status.idle": "2024-06-10T12:05:03.169767Z",
     "shell.execute_reply": "2024-06-10T12:05:03.167868Z"
    },
    "papermill": {
     "duration": 0.024254,
     "end_time": "2024-06-10T12:05:03.173239",
     "exception": false,
     "start_time": "2024-06-10T12:05:03.148985",
     "status": "completed"
    },
    "tags": []
   },
   "outputs": [
    {
     "data": {
      "text/plain": [
       "(940, 15)"
      ]
     },
     "execution_count": 3,
     "metadata": {},
     "output_type": "execute_result"
    }
   ],
   "source": [
    "df.shape"
   ]
  },
  {
   "cell_type": "code",
   "execution_count": 4,
   "id": "d9c69365",
   "metadata": {
    "execution": {
     "iopub.execute_input": "2024-06-10T12:05:03.195240Z",
     "iopub.status.busy": "2024-06-10T12:05:03.194846Z",
     "iopub.status.idle": "2024-06-10T12:05:03.202541Z",
     "shell.execute_reply": "2024-06-10T12:05:03.201389Z"
    },
    "papermill": {
     "duration": 0.021675,
     "end_time": "2024-06-10T12:05:03.205659",
     "exception": false,
     "start_time": "2024-06-10T12:05:03.183984",
     "status": "completed"
    },
    "tags": []
   },
   "outputs": [
    {
     "data": {
      "text/plain": [
       "Index(['Id', 'ActivityDate', 'TotalSteps', 'TotalDistance', 'TrackerDistance',\n",
       "       'LoggedActivitiesDistance', 'VeryActiveDistance',\n",
       "       'ModeratelyActiveDistance', 'LightActiveDistance',\n",
       "       'SedentaryActiveDistance', 'VeryActiveMinutes', 'FairlyActiveMinutes',\n",
       "       'LightlyActiveMinutes', 'SedentaryMinutes', 'Calories'],\n",
       "      dtype='object')"
      ]
     },
     "execution_count": 4,
     "metadata": {},
     "output_type": "execute_result"
    }
   ],
   "source": [
    "df.columns"
   ]
  },
  {
   "cell_type": "code",
   "execution_count": 5,
   "id": "c2194c4c",
   "metadata": {
    "execution": {
     "iopub.execute_input": "2024-06-10T12:05:03.229310Z",
     "iopub.status.busy": "2024-06-10T12:05:03.228935Z",
     "iopub.status.idle": "2024-06-10T12:05:03.270171Z",
     "shell.execute_reply": "2024-06-10T12:05:03.269004Z"
    },
    "papermill": {
     "duration": 0.056723,
     "end_time": "2024-06-10T12:05:03.272874",
     "exception": false,
     "start_time": "2024-06-10T12:05:03.216151",
     "status": "completed"
    },
    "tags": []
   },
   "outputs": [
    {
     "data": {
      "text/html": [
       "<div>\n",
       "<style scoped>\n",
       "    .dataframe tbody tr th:only-of-type {\n",
       "        vertical-align: middle;\n",
       "    }\n",
       "\n",
       "    .dataframe tbody tr th {\n",
       "        vertical-align: top;\n",
       "    }\n",
       "\n",
       "    .dataframe thead th {\n",
       "        text-align: right;\n",
       "    }\n",
       "</style>\n",
       "<table border=\"1\" class=\"dataframe\">\n",
       "  <thead>\n",
       "    <tr style=\"text-align: right;\">\n",
       "      <th></th>\n",
       "      <th>Id</th>\n",
       "      <th>ActivityDate</th>\n",
       "      <th>TotalSteps</th>\n",
       "      <th>TotalDistance</th>\n",
       "      <th>TrackerDistance</th>\n",
       "      <th>LoggedActivitiesDistance</th>\n",
       "      <th>VeryActiveDistance</th>\n",
       "      <th>ModeratelyActiveDistance</th>\n",
       "      <th>LightActiveDistance</th>\n",
       "      <th>SedentaryActiveDistance</th>\n",
       "      <th>VeryActiveMinutes</th>\n",
       "      <th>FairlyActiveMinutes</th>\n",
       "      <th>LightlyActiveMinutes</th>\n",
       "      <th>SedentaryMinutes</th>\n",
       "      <th>Calories</th>\n",
       "    </tr>\n",
       "  </thead>\n",
       "  <tbody>\n",
       "    <tr>\n",
       "      <th>0</th>\n",
       "      <td>1503960366</td>\n",
       "      <td>4/12/2016</td>\n",
       "      <td>13162</td>\n",
       "      <td>8.50</td>\n",
       "      <td>8.50</td>\n",
       "      <td>0.0</td>\n",
       "      <td>1.88</td>\n",
       "      <td>0.55</td>\n",
       "      <td>6.06</td>\n",
       "      <td>0.0</td>\n",
       "      <td>25</td>\n",
       "      <td>13</td>\n",
       "      <td>328</td>\n",
       "      <td>728</td>\n",
       "      <td>1985</td>\n",
       "    </tr>\n",
       "    <tr>\n",
       "      <th>1</th>\n",
       "      <td>1503960366</td>\n",
       "      <td>4/13/2016</td>\n",
       "      <td>10735</td>\n",
       "      <td>6.97</td>\n",
       "      <td>6.97</td>\n",
       "      <td>0.0</td>\n",
       "      <td>1.57</td>\n",
       "      <td>0.69</td>\n",
       "      <td>4.71</td>\n",
       "      <td>0.0</td>\n",
       "      <td>21</td>\n",
       "      <td>19</td>\n",
       "      <td>217</td>\n",
       "      <td>776</td>\n",
       "      <td>1797</td>\n",
       "    </tr>\n",
       "    <tr>\n",
       "      <th>2</th>\n",
       "      <td>1503960366</td>\n",
       "      <td>4/14/2016</td>\n",
       "      <td>10460</td>\n",
       "      <td>6.74</td>\n",
       "      <td>6.74</td>\n",
       "      <td>0.0</td>\n",
       "      <td>2.44</td>\n",
       "      <td>0.40</td>\n",
       "      <td>3.91</td>\n",
       "      <td>0.0</td>\n",
       "      <td>30</td>\n",
       "      <td>11</td>\n",
       "      <td>181</td>\n",
       "      <td>1218</td>\n",
       "      <td>1776</td>\n",
       "    </tr>\n",
       "    <tr>\n",
       "      <th>3</th>\n",
       "      <td>1503960366</td>\n",
       "      <td>4/15/2016</td>\n",
       "      <td>9762</td>\n",
       "      <td>6.28</td>\n",
       "      <td>6.28</td>\n",
       "      <td>0.0</td>\n",
       "      <td>2.14</td>\n",
       "      <td>1.26</td>\n",
       "      <td>2.83</td>\n",
       "      <td>0.0</td>\n",
       "      <td>29</td>\n",
       "      <td>34</td>\n",
       "      <td>209</td>\n",
       "      <td>726</td>\n",
       "      <td>1745</td>\n",
       "    </tr>\n",
       "    <tr>\n",
       "      <th>4</th>\n",
       "      <td>1503960366</td>\n",
       "      <td>4/16/2016</td>\n",
       "      <td>12669</td>\n",
       "      <td>8.16</td>\n",
       "      <td>8.16</td>\n",
       "      <td>0.0</td>\n",
       "      <td>2.71</td>\n",
       "      <td>0.41</td>\n",
       "      <td>5.04</td>\n",
       "      <td>0.0</td>\n",
       "      <td>36</td>\n",
       "      <td>10</td>\n",
       "      <td>221</td>\n",
       "      <td>773</td>\n",
       "      <td>1863</td>\n",
       "    </tr>\n",
       "    <tr>\n",
       "      <th>5</th>\n",
       "      <td>1503960366</td>\n",
       "      <td>4/17/2016</td>\n",
       "      <td>9705</td>\n",
       "      <td>6.48</td>\n",
       "      <td>6.48</td>\n",
       "      <td>0.0</td>\n",
       "      <td>3.19</td>\n",
       "      <td>0.78</td>\n",
       "      <td>2.51</td>\n",
       "      <td>0.0</td>\n",
       "      <td>38</td>\n",
       "      <td>20</td>\n",
       "      <td>164</td>\n",
       "      <td>539</td>\n",
       "      <td>1728</td>\n",
       "    </tr>\n",
       "    <tr>\n",
       "      <th>6</th>\n",
       "      <td>1503960366</td>\n",
       "      <td>4/18/2016</td>\n",
       "      <td>13019</td>\n",
       "      <td>8.59</td>\n",
       "      <td>8.59</td>\n",
       "      <td>0.0</td>\n",
       "      <td>3.25</td>\n",
       "      <td>0.64</td>\n",
       "      <td>4.71</td>\n",
       "      <td>0.0</td>\n",
       "      <td>42</td>\n",
       "      <td>16</td>\n",
       "      <td>233</td>\n",
       "      <td>1149</td>\n",
       "      <td>1921</td>\n",
       "    </tr>\n",
       "    <tr>\n",
       "      <th>7</th>\n",
       "      <td>1503960366</td>\n",
       "      <td>4/19/2016</td>\n",
       "      <td>15506</td>\n",
       "      <td>9.88</td>\n",
       "      <td>9.88</td>\n",
       "      <td>0.0</td>\n",
       "      <td>3.53</td>\n",
       "      <td>1.32</td>\n",
       "      <td>5.03</td>\n",
       "      <td>0.0</td>\n",
       "      <td>50</td>\n",
       "      <td>31</td>\n",
       "      <td>264</td>\n",
       "      <td>775</td>\n",
       "      <td>2035</td>\n",
       "    </tr>\n",
       "    <tr>\n",
       "      <th>8</th>\n",
       "      <td>1503960366</td>\n",
       "      <td>4/20/2016</td>\n",
       "      <td>10544</td>\n",
       "      <td>6.68</td>\n",
       "      <td>6.68</td>\n",
       "      <td>0.0</td>\n",
       "      <td>1.96</td>\n",
       "      <td>0.48</td>\n",
       "      <td>4.24</td>\n",
       "      <td>0.0</td>\n",
       "      <td>28</td>\n",
       "      <td>12</td>\n",
       "      <td>205</td>\n",
       "      <td>818</td>\n",
       "      <td>1786</td>\n",
       "    </tr>\n",
       "    <tr>\n",
       "      <th>9</th>\n",
       "      <td>1503960366</td>\n",
       "      <td>4/21/2016</td>\n",
       "      <td>9819</td>\n",
       "      <td>6.34</td>\n",
       "      <td>6.34</td>\n",
       "      <td>0.0</td>\n",
       "      <td>1.34</td>\n",
       "      <td>0.35</td>\n",
       "      <td>4.65</td>\n",
       "      <td>0.0</td>\n",
       "      <td>19</td>\n",
       "      <td>8</td>\n",
       "      <td>211</td>\n",
       "      <td>838</td>\n",
       "      <td>1775</td>\n",
       "    </tr>\n",
       "  </tbody>\n",
       "</table>\n",
       "</div>"
      ],
      "text/plain": [
       "           Id ActivityDate  TotalSteps  TotalDistance  TrackerDistance  \\\n",
       "0  1503960366    4/12/2016       13162           8.50             8.50   \n",
       "1  1503960366    4/13/2016       10735           6.97             6.97   \n",
       "2  1503960366    4/14/2016       10460           6.74             6.74   \n",
       "3  1503960366    4/15/2016        9762           6.28             6.28   \n",
       "4  1503960366    4/16/2016       12669           8.16             8.16   \n",
       "5  1503960366    4/17/2016        9705           6.48             6.48   \n",
       "6  1503960366    4/18/2016       13019           8.59             8.59   \n",
       "7  1503960366    4/19/2016       15506           9.88             9.88   \n",
       "8  1503960366    4/20/2016       10544           6.68             6.68   \n",
       "9  1503960366    4/21/2016        9819           6.34             6.34   \n",
       "\n",
       "   LoggedActivitiesDistance  VeryActiveDistance  ModeratelyActiveDistance  \\\n",
       "0                       0.0                1.88                      0.55   \n",
       "1                       0.0                1.57                      0.69   \n",
       "2                       0.0                2.44                      0.40   \n",
       "3                       0.0                2.14                      1.26   \n",
       "4                       0.0                2.71                      0.41   \n",
       "5                       0.0                3.19                      0.78   \n",
       "6                       0.0                3.25                      0.64   \n",
       "7                       0.0                3.53                      1.32   \n",
       "8                       0.0                1.96                      0.48   \n",
       "9                       0.0                1.34                      0.35   \n",
       "\n",
       "   LightActiveDistance  SedentaryActiveDistance  VeryActiveMinutes  \\\n",
       "0                 6.06                      0.0                 25   \n",
       "1                 4.71                      0.0                 21   \n",
       "2                 3.91                      0.0                 30   \n",
       "3                 2.83                      0.0                 29   \n",
       "4                 5.04                      0.0                 36   \n",
       "5                 2.51                      0.0                 38   \n",
       "6                 4.71                      0.0                 42   \n",
       "7                 5.03                      0.0                 50   \n",
       "8                 4.24                      0.0                 28   \n",
       "9                 4.65                      0.0                 19   \n",
       "\n",
       "   FairlyActiveMinutes  LightlyActiveMinutes  SedentaryMinutes  Calories  \n",
       "0                   13                   328               728      1985  \n",
       "1                   19                   217               776      1797  \n",
       "2                   11                   181              1218      1776  \n",
       "3                   34                   209               726      1745  \n",
       "4                   10                   221               773      1863  \n",
       "5                   20                   164               539      1728  \n",
       "6                   16                   233              1149      1921  \n",
       "7                   31                   264               775      2035  \n",
       "8                   12                   205               818      1786  \n",
       "9                    8                   211               838      1775  "
      ]
     },
     "execution_count": 5,
     "metadata": {},
     "output_type": "execute_result"
    }
   ],
   "source": [
    "df.head(10)"
   ]
  },
  {
   "cell_type": "code",
   "execution_count": 6,
   "id": "0d77586b",
   "metadata": {
    "execution": {
     "iopub.execute_input": "2024-06-10T12:05:03.295430Z",
     "iopub.status.busy": "2024-06-10T12:05:03.295046Z",
     "iopub.status.idle": "2024-06-10T12:05:03.304031Z",
     "shell.execute_reply": "2024-06-10T12:05:03.302938Z"
    },
    "papermill": {
     "duration": 0.023082,
     "end_time": "2024-06-10T12:05:03.306563",
     "exception": false,
     "start_time": "2024-06-10T12:05:03.283481",
     "status": "completed"
    },
    "tags": []
   },
   "outputs": [
    {
     "data": {
      "text/plain": [
       "Id                            int64\n",
       "ActivityDate                 object\n",
       "TotalSteps                    int64\n",
       "TotalDistance               float64\n",
       "TrackerDistance             float64\n",
       "LoggedActivitiesDistance    float64\n",
       "VeryActiveDistance          float64\n",
       "ModeratelyActiveDistance    float64\n",
       "LightActiveDistance         float64\n",
       "SedentaryActiveDistance     float64\n",
       "VeryActiveMinutes             int64\n",
       "FairlyActiveMinutes           int64\n",
       "LightlyActiveMinutes          int64\n",
       "SedentaryMinutes              int64\n",
       "Calories                      int64\n",
       "dtype: object"
      ]
     },
     "execution_count": 6,
     "metadata": {},
     "output_type": "execute_result"
    }
   ],
   "source": [
    "df.dtypes"
   ]
  },
  {
   "cell_type": "markdown",
   "id": "b42df8eb",
   "metadata": {
    "papermill": {
     "duration": 0.010395,
     "end_time": "2024-06-10T12:05:03.327461",
     "exception": false,
     "start_time": "2024-06-10T12:05:03.317066",
     "status": "completed"
    },
    "tags": []
   },
   "source": [
    "The \"ID\" column has to be a string type and \"ActivityDate\" has to be a data type"
   ]
  },
  {
   "cell_type": "code",
   "execution_count": 7,
   "id": "0dc91275",
   "metadata": {
    "execution": {
     "iopub.execute_input": "2024-06-10T12:05:03.350138Z",
     "iopub.status.busy": "2024-06-10T12:05:03.349732Z",
     "iopub.status.idle": "2024-06-10T12:05:03.376177Z",
     "shell.execute_reply": "2024-06-10T12:05:03.374976Z"
    },
    "papermill": {
     "duration": 0.040772,
     "end_time": "2024-06-10T12:05:03.378810",
     "exception": false,
     "start_time": "2024-06-10T12:05:03.338038",
     "status": "completed"
    },
    "tags": []
   },
   "outputs": [
    {
     "data": {
      "text/plain": [
       "Id                                  object\n",
       "ActivityDate                datetime64[ns]\n",
       "TotalSteps                           int64\n",
       "TotalDistance                      float64\n",
       "TrackerDistance                    float64\n",
       "LoggedActivitiesDistance           float64\n",
       "VeryActiveDistance                 float64\n",
       "ModeratelyActiveDistance           float64\n",
       "LightActiveDistance                float64\n",
       "SedentaryActiveDistance            float64\n",
       "VeryActiveMinutes                    int64\n",
       "FairlyActiveMinutes                  int64\n",
       "LightlyActiveMinutes                 int64\n",
       "SedentaryMinutes                     int64\n",
       "Calories                             int64\n",
       "dtype: object"
      ]
     },
     "execution_count": 7,
     "metadata": {},
     "output_type": "execute_result"
    }
   ],
   "source": [
    "#cleaning data\n",
    "df['Id'] = df['Id'].astype(str)\n",
    "df['ActivityDate'] = pd.to_datetime(df['ActivityDate'], format='%m/%d/%Y')\n",
    "df.dtypes"
   ]
  },
  {
   "cell_type": "code",
   "execution_count": 8,
   "id": "98b4f47c",
   "metadata": {
    "execution": {
     "iopub.execute_input": "2024-06-10T12:05:03.402592Z",
     "iopub.status.busy": "2024-06-10T12:05:03.401449Z",
     "iopub.status.idle": "2024-06-10T12:05:03.408484Z",
     "shell.execute_reply": "2024-06-10T12:05:03.407357Z"
    },
    "papermill": {
     "duration": 0.021997,
     "end_time": "2024-06-10T12:05:03.411181",
     "exception": false,
     "start_time": "2024-06-10T12:05:03.389184",
     "status": "completed"
    },
    "tags": []
   },
   "outputs": [],
   "source": [
    "df['distance_diff'] = df['TotalDistance'] - df['TrackerDistance']"
   ]
  },
  {
   "cell_type": "markdown",
   "id": "36c2f84e",
   "metadata": {
    "papermill": {
     "duration": 0.010598,
     "end_time": "2024-06-10T12:05:03.432845",
     "exception": false,
     "start_time": "2024-06-10T12:05:03.422247",
     "status": "completed"
    },
    "tags": []
   },
   "source": [
    "To see if we had other values than zero.\n",
    "Obs: Seems like TotalDistance and TrackerDistance columns have the same values. In addition, \"TrackerDistance\" looks like a combination of other columns."
   ]
  },
  {
   "cell_type": "code",
   "execution_count": 9,
   "id": "409db42d",
   "metadata": {
    "execution": {
     "iopub.execute_input": "2024-06-10T12:05:03.456036Z",
     "iopub.status.busy": "2024-06-10T12:05:03.455281Z",
     "iopub.status.idle": "2024-06-10T12:05:03.467984Z",
     "shell.execute_reply": "2024-06-10T12:05:03.466869Z"
    },
    "papermill": {
     "duration": 0.02691,
     "end_time": "2024-06-10T12:05:03.470368",
     "exception": false,
     "start_time": "2024-06-10T12:05:03.443458",
     "status": "completed"
    },
    "tags": []
   },
   "outputs": [
    {
     "data": {
      "text/plain": [
       "distance_diff\n",
       "0.000000    925\n",
       "1.830000      1\n",
       "0.190001      1\n",
       "0.040000      1\n",
       "0.810000      1\n",
       "1.049999      1\n",
       "0.760000      1\n",
       "1.070000      1\n",
       "0.980000      1\n",
       "0.900001      1\n",
       "1.140000      1\n",
       "1.160000      1\n",
       "0.880000      1\n",
       "0.460000      1\n",
       "1.160000      1\n",
       "1.060000      1\n",
       "Name: count, dtype: int64"
      ]
     },
     "execution_count": 9,
     "metadata": {},
     "output_type": "execute_result"
    }
   ],
   "source": [
    "df['distance_diff'].value_counts()"
   ]
  },
  {
   "cell_type": "markdown",
   "id": "774b84d1",
   "metadata": {
    "papermill": {
     "duration": 0.010198,
     "end_time": "2024-06-10T12:05:03.491290",
     "exception": false,
     "start_time": "2024-06-10T12:05:03.481092",
     "status": "completed"
    },
    "tags": []
   },
   "source": [
    "Então podemos ver que as colunas representam variáveis diferentes, ou seja, não tem os mesmos valores"
   ]
  },
  {
   "cell_type": "code",
   "execution_count": 10,
   "id": "7670594a",
   "metadata": {
    "execution": {
     "iopub.execute_input": "2024-06-10T12:05:03.514555Z",
     "iopub.status.busy": "2024-06-10T12:05:03.514149Z",
     "iopub.status.idle": "2024-06-10T12:05:03.634426Z",
     "shell.execute_reply": "2024-06-10T12:05:03.633266Z"
    },
    "papermill": {
     "duration": 0.135406,
     "end_time": "2024-06-10T12:05:03.637341",
     "exception": false,
     "start_time": "2024-06-10T12:05:03.501935",
     "status": "completed"
    },
    "tags": []
   },
   "outputs": [
    {
     "data": {
      "text/html": [
       "<div>\n",
       "<style scoped>\n",
       "    .dataframe tbody tr th:only-of-type {\n",
       "        vertical-align: middle;\n",
       "    }\n",
       "\n",
       "    .dataframe tbody tr th {\n",
       "        vertical-align: top;\n",
       "    }\n",
       "\n",
       "    .dataframe thead th {\n",
       "        text-align: right;\n",
       "    }\n",
       "</style>\n",
       "<table border=\"1\" class=\"dataframe\">\n",
       "  <thead>\n",
       "    <tr style=\"text-align: right;\">\n",
       "      <th></th>\n",
       "      <th>Id</th>\n",
       "      <th>ActivityDate</th>\n",
       "      <th>TotalSteps</th>\n",
       "      <th>TotalDistance</th>\n",
       "      <th>TrackerDistance</th>\n",
       "      <th>LoggedActivitiesDistance</th>\n",
       "      <th>VeryActiveDistance</th>\n",
       "      <th>ModeratelyActiveDistance</th>\n",
       "      <th>LightActiveDistance</th>\n",
       "      <th>SedentaryActiveDistance</th>\n",
       "      <th>VeryActiveMinutes</th>\n",
       "      <th>FairlyActiveMinutes</th>\n",
       "      <th>LightlyActiveMinutes</th>\n",
       "      <th>SedentaryMinutes</th>\n",
       "      <th>Calories</th>\n",
       "      <th>distance_diff</th>\n",
       "    </tr>\n",
       "  </thead>\n",
       "  <tbody>\n",
       "    <tr>\n",
       "      <th>689</th>\n",
       "      <td>6962181067</td>\n",
       "      <td>2016-04-21</td>\n",
       "      <td>11835</td>\n",
       "      <td>9.71</td>\n",
       "      <td>7.88</td>\n",
       "      <td>4.081692</td>\n",
       "      <td>3.99</td>\n",
       "      <td>2.10</td>\n",
       "      <td>3.51</td>\n",
       "      <td>0.11</td>\n",
       "      <td>53</td>\n",
       "      <td>27</td>\n",
       "      <td>214</td>\n",
       "      <td>708</td>\n",
       "      <td>2179</td>\n",
       "      <td>1.830000</td>\n",
       "    </tr>\n",
       "    <tr>\n",
       "      <th>693</th>\n",
       "      <td>6962181067</td>\n",
       "      <td>2016-04-25</td>\n",
       "      <td>13239</td>\n",
       "      <td>9.27</td>\n",
       "      <td>9.08</td>\n",
       "      <td>2.785175</td>\n",
       "      <td>3.02</td>\n",
       "      <td>1.68</td>\n",
       "      <td>4.46</td>\n",
       "      <td>0.10</td>\n",
       "      <td>35</td>\n",
       "      <td>31</td>\n",
       "      <td>282</td>\n",
       "      <td>637</td>\n",
       "      <td>2194</td>\n",
       "      <td>0.190001</td>\n",
       "    </tr>\n",
       "    <tr>\n",
       "      <th>707</th>\n",
       "      <td>6962181067</td>\n",
       "      <td>2016-05-09</td>\n",
       "      <td>12342</td>\n",
       "      <td>8.72</td>\n",
       "      <td>8.68</td>\n",
       "      <td>3.167822</td>\n",
       "      <td>3.90</td>\n",
       "      <td>1.18</td>\n",
       "      <td>3.65</td>\n",
       "      <td>0.00</td>\n",
       "      <td>43</td>\n",
       "      <td>21</td>\n",
       "      <td>231</td>\n",
       "      <td>607</td>\n",
       "      <td>2105</td>\n",
       "      <td>0.040000</td>\n",
       "    </tr>\n",
       "    <tr>\n",
       "      <th>711</th>\n",
       "      <td>7007744171</td>\n",
       "      <td>2016-04-12</td>\n",
       "      <td>14172</td>\n",
       "      <td>10.29</td>\n",
       "      <td>9.48</td>\n",
       "      <td>4.869783</td>\n",
       "      <td>4.50</td>\n",
       "      <td>0.38</td>\n",
       "      <td>5.41</td>\n",
       "      <td>0.00</td>\n",
       "      <td>53</td>\n",
       "      <td>8</td>\n",
       "      <td>355</td>\n",
       "      <td>1024</td>\n",
       "      <td>2937</td>\n",
       "      <td>0.810000</td>\n",
       "    </tr>\n",
       "    <tr>\n",
       "      <th>712</th>\n",
       "      <td>7007744171</td>\n",
       "      <td>2016-04-13</td>\n",
       "      <td>12862</td>\n",
       "      <td>9.65</td>\n",
       "      <td>8.60</td>\n",
       "      <td>4.851307</td>\n",
       "      <td>4.61</td>\n",
       "      <td>0.56</td>\n",
       "      <td>4.48</td>\n",
       "      <td>0.00</td>\n",
       "      <td>56</td>\n",
       "      <td>22</td>\n",
       "      <td>261</td>\n",
       "      <td>1101</td>\n",
       "      <td>2742</td>\n",
       "      <td>1.049999</td>\n",
       "    </tr>\n",
       "    <tr>\n",
       "      <th>713</th>\n",
       "      <td>7007744171</td>\n",
       "      <td>2016-04-14</td>\n",
       "      <td>11179</td>\n",
       "      <td>8.24</td>\n",
       "      <td>7.48</td>\n",
       "      <td>3.285415</td>\n",
       "      <td>2.95</td>\n",
       "      <td>0.34</td>\n",
       "      <td>4.96</td>\n",
       "      <td>0.00</td>\n",
       "      <td>34</td>\n",
       "      <td>6</td>\n",
       "      <td>304</td>\n",
       "      <td>1096</td>\n",
       "      <td>2668</td>\n",
       "      <td>0.760000</td>\n",
       "    </tr>\n",
       "    <tr>\n",
       "      <th>717</th>\n",
       "      <td>7007744171</td>\n",
       "      <td>2016-04-18</td>\n",
       "      <td>14816</td>\n",
       "      <td>10.98</td>\n",
       "      <td>9.91</td>\n",
       "      <td>4.930550</td>\n",
       "      <td>3.79</td>\n",
       "      <td>2.12</td>\n",
       "      <td>5.05</td>\n",
       "      <td>0.02</td>\n",
       "      <td>48</td>\n",
       "      <td>31</td>\n",
       "      <td>284</td>\n",
       "      <td>1077</td>\n",
       "      <td>2832</td>\n",
       "      <td>1.070000</td>\n",
       "    </tr>\n",
       "    <tr>\n",
       "      <th>718</th>\n",
       "      <td>7007744171</td>\n",
       "      <td>2016-04-19</td>\n",
       "      <td>14194</td>\n",
       "      <td>10.48</td>\n",
       "      <td>9.50</td>\n",
       "      <td>4.942142</td>\n",
       "      <td>4.41</td>\n",
       "      <td>0.76</td>\n",
       "      <td>5.31</td>\n",
       "      <td>0.00</td>\n",
       "      <td>53</td>\n",
       "      <td>17</td>\n",
       "      <td>304</td>\n",
       "      <td>1066</td>\n",
       "      <td>2812</td>\n",
       "      <td>0.980000</td>\n",
       "    </tr>\n",
       "    <tr>\n",
       "      <th>719</th>\n",
       "      <td>7007744171</td>\n",
       "      <td>2016-04-20</td>\n",
       "      <td>15566</td>\n",
       "      <td>11.31</td>\n",
       "      <td>10.41</td>\n",
       "      <td>4.924841</td>\n",
       "      <td>4.79</td>\n",
       "      <td>0.67</td>\n",
       "      <td>5.86</td>\n",
       "      <td>0.00</td>\n",
       "      <td>60</td>\n",
       "      <td>33</td>\n",
       "      <td>347</td>\n",
       "      <td>1000</td>\n",
       "      <td>3096</td>\n",
       "      <td>0.900001</td>\n",
       "    </tr>\n",
       "    <tr>\n",
       "      <th>724</th>\n",
       "      <td>7007744171</td>\n",
       "      <td>2016-04-25</td>\n",
       "      <td>18229</td>\n",
       "      <td>13.34</td>\n",
       "      <td>12.20</td>\n",
       "      <td>4.861792</td>\n",
       "      <td>4.31</td>\n",
       "      <td>1.37</td>\n",
       "      <td>7.67</td>\n",
       "      <td>0.00</td>\n",
       "      <td>51</td>\n",
       "      <td>24</td>\n",
       "      <td>379</td>\n",
       "      <td>986</td>\n",
       "      <td>3055</td>\n",
       "      <td>1.140000</td>\n",
       "    </tr>\n",
       "    <tr>\n",
       "      <th>726</th>\n",
       "      <td>7007744171</td>\n",
       "      <td>2016-04-27</td>\n",
       "      <td>13541</td>\n",
       "      <td>10.22</td>\n",
       "      <td>9.06</td>\n",
       "      <td>4.885605</td>\n",
       "      <td>4.27</td>\n",
       "      <td>0.66</td>\n",
       "      <td>5.29</td>\n",
       "      <td>0.00</td>\n",
       "      <td>50</td>\n",
       "      <td>12</td>\n",
       "      <td>337</td>\n",
       "      <td>1041</td>\n",
       "      <td>2830</td>\n",
       "      <td>1.160000</td>\n",
       "    </tr>\n",
       "    <tr>\n",
       "      <th>728</th>\n",
       "      <td>7007744171</td>\n",
       "      <td>2016-04-29</td>\n",
       "      <td>20067</td>\n",
       "      <td>14.30</td>\n",
       "      <td>13.42</td>\n",
       "      <td>4.911146</td>\n",
       "      <td>4.31</td>\n",
       "      <td>2.05</td>\n",
       "      <td>7.95</td>\n",
       "      <td>0.00</td>\n",
       "      <td>55</td>\n",
       "      <td>42</td>\n",
       "      <td>382</td>\n",
       "      <td>961</td>\n",
       "      <td>3180</td>\n",
       "      <td>0.880000</td>\n",
       "    </tr>\n",
       "    <tr>\n",
       "      <th>731</th>\n",
       "      <td>7007744171</td>\n",
       "      <td>2016-05-02</td>\n",
       "      <td>13041</td>\n",
       "      <td>9.18</td>\n",
       "      <td>8.72</td>\n",
       "      <td>2.832326</td>\n",
       "      <td>4.64</td>\n",
       "      <td>0.70</td>\n",
       "      <td>3.83</td>\n",
       "      <td>0.00</td>\n",
       "      <td>64</td>\n",
       "      <td>14</td>\n",
       "      <td>250</td>\n",
       "      <td>1112</td>\n",
       "      <td>2642</td>\n",
       "      <td>0.460000</td>\n",
       "    </tr>\n",
       "    <tr>\n",
       "      <th>732</th>\n",
       "      <td>7007744171</td>\n",
       "      <td>2016-05-03</td>\n",
       "      <td>14510</td>\n",
       "      <td>10.87</td>\n",
       "      <td>9.71</td>\n",
       "      <td>4.912368</td>\n",
       "      <td>4.48</td>\n",
       "      <td>1.02</td>\n",
       "      <td>5.36</td>\n",
       "      <td>0.00</td>\n",
       "      <td>58</td>\n",
       "      <td>31</td>\n",
       "      <td>330</td>\n",
       "      <td>1021</td>\n",
       "      <td>2976</td>\n",
       "      <td>1.160000</td>\n",
       "    </tr>\n",
       "    <tr>\n",
       "      <th>734</th>\n",
       "      <td>7007744171</td>\n",
       "      <td>2016-05-05</td>\n",
       "      <td>15010</td>\n",
       "      <td>11.10</td>\n",
       "      <td>10.04</td>\n",
       "      <td>4.878232</td>\n",
       "      <td>4.33</td>\n",
       "      <td>1.29</td>\n",
       "      <td>5.48</td>\n",
       "      <td>0.00</td>\n",
       "      <td>53</td>\n",
       "      <td>23</td>\n",
       "      <td>317</td>\n",
       "      <td>1047</td>\n",
       "      <td>2933</td>\n",
       "      <td>1.060000</td>\n",
       "    </tr>\n",
       "  </tbody>\n",
       "</table>\n",
       "</div>"
      ],
      "text/plain": [
       "             Id ActivityDate  TotalSteps  TotalDistance  TrackerDistance  \\\n",
       "689  6962181067   2016-04-21       11835           9.71             7.88   \n",
       "693  6962181067   2016-04-25       13239           9.27             9.08   \n",
       "707  6962181067   2016-05-09       12342           8.72             8.68   \n",
       "711  7007744171   2016-04-12       14172          10.29             9.48   \n",
       "712  7007744171   2016-04-13       12862           9.65             8.60   \n",
       "713  7007744171   2016-04-14       11179           8.24             7.48   \n",
       "717  7007744171   2016-04-18       14816          10.98             9.91   \n",
       "718  7007744171   2016-04-19       14194          10.48             9.50   \n",
       "719  7007744171   2016-04-20       15566          11.31            10.41   \n",
       "724  7007744171   2016-04-25       18229          13.34            12.20   \n",
       "726  7007744171   2016-04-27       13541          10.22             9.06   \n",
       "728  7007744171   2016-04-29       20067          14.30            13.42   \n",
       "731  7007744171   2016-05-02       13041           9.18             8.72   \n",
       "732  7007744171   2016-05-03       14510          10.87             9.71   \n",
       "734  7007744171   2016-05-05       15010          11.10            10.04   \n",
       "\n",
       "     LoggedActivitiesDistance  VeryActiveDistance  ModeratelyActiveDistance  \\\n",
       "689                  4.081692                3.99                      2.10   \n",
       "693                  2.785175                3.02                      1.68   \n",
       "707                  3.167822                3.90                      1.18   \n",
       "711                  4.869783                4.50                      0.38   \n",
       "712                  4.851307                4.61                      0.56   \n",
       "713                  3.285415                2.95                      0.34   \n",
       "717                  4.930550                3.79                      2.12   \n",
       "718                  4.942142                4.41                      0.76   \n",
       "719                  4.924841                4.79                      0.67   \n",
       "724                  4.861792                4.31                      1.37   \n",
       "726                  4.885605                4.27                      0.66   \n",
       "728                  4.911146                4.31                      2.05   \n",
       "731                  2.832326                4.64                      0.70   \n",
       "732                  4.912368                4.48                      1.02   \n",
       "734                  4.878232                4.33                      1.29   \n",
       "\n",
       "     LightActiveDistance  SedentaryActiveDistance  VeryActiveMinutes  \\\n",
       "689                 3.51                     0.11                 53   \n",
       "693                 4.46                     0.10                 35   \n",
       "707                 3.65                     0.00                 43   \n",
       "711                 5.41                     0.00                 53   \n",
       "712                 4.48                     0.00                 56   \n",
       "713                 4.96                     0.00                 34   \n",
       "717                 5.05                     0.02                 48   \n",
       "718                 5.31                     0.00                 53   \n",
       "719                 5.86                     0.00                 60   \n",
       "724                 7.67                     0.00                 51   \n",
       "726                 5.29                     0.00                 50   \n",
       "728                 7.95                     0.00                 55   \n",
       "731                 3.83                     0.00                 64   \n",
       "732                 5.36                     0.00                 58   \n",
       "734                 5.48                     0.00                 53   \n",
       "\n",
       "     FairlyActiveMinutes  LightlyActiveMinutes  SedentaryMinutes  Calories  \\\n",
       "689                   27                   214               708      2179   \n",
       "693                   31                   282               637      2194   \n",
       "707                   21                   231               607      2105   \n",
       "711                    8                   355              1024      2937   \n",
       "712                   22                   261              1101      2742   \n",
       "713                    6                   304              1096      2668   \n",
       "717                   31                   284              1077      2832   \n",
       "718                   17                   304              1066      2812   \n",
       "719                   33                   347              1000      3096   \n",
       "724                   24                   379               986      3055   \n",
       "726                   12                   337              1041      2830   \n",
       "728                   42                   382               961      3180   \n",
       "731                   14                   250              1112      2642   \n",
       "732                   31                   330              1021      2976   \n",
       "734                   23                   317              1047      2933   \n",
       "\n",
       "     distance_diff  \n",
       "689       1.830000  \n",
       "693       0.190001  \n",
       "707       0.040000  \n",
       "711       0.810000  \n",
       "712       1.049999  \n",
       "713       0.760000  \n",
       "717       1.070000  \n",
       "718       0.980000  \n",
       "719       0.900001  \n",
       "724       1.140000  \n",
       "726       1.160000  \n",
       "728       0.880000  \n",
       "731       0.460000  \n",
       "732       1.160000  \n",
       "734       1.060000  "
      ]
     },
     "execution_count": 10,
     "metadata": {},
     "output_type": "execute_result"
    }
   ],
   "source": [
    "df.query('distance_diff > 0.0')"
   ]
  },
  {
   "cell_type": "code",
   "execution_count": 11,
   "id": "5e82304c",
   "metadata": {
    "execution": {
     "iopub.execute_input": "2024-06-10T12:05:03.662468Z",
     "iopub.status.busy": "2024-06-10T12:05:03.662042Z",
     "iopub.status.idle": "2024-06-10T12:05:03.670560Z",
     "shell.execute_reply": "2024-06-10T12:05:03.669402Z"
    },
    "papermill": {
     "duration": 0.024244,
     "end_time": "2024-06-10T12:05:03.673155",
     "exception": false,
     "start_time": "2024-06-10T12:05:03.648911",
     "status": "completed"
    },
    "tags": []
   },
   "outputs": [
    {
     "data": {
      "text/plain": [
       "Index(['id', 'activitydate', 'totalsteps', 'totaldistance', 'trackerdistance',\n",
       "       'loggedactivitiesdistance', 'veryactivedistance',\n",
       "       'moderatelyactivedistance', 'lightactivedistance',\n",
       "       'sedentaryactivedistance', 'veryactiveminutes', 'fairlyactiveminutes',\n",
       "       'lightlyactiveminutes', 'sedentaryminutes', 'calories',\n",
       "       'distance_diff'],\n",
       "      dtype='object')"
      ]
     },
     "execution_count": 11,
     "metadata": {},
     "output_type": "execute_result"
    }
   ],
   "source": [
    "df.columns = df.columns.str.lower()\n",
    "df.columns"
   ]
  },
  {
   "cell_type": "code",
   "execution_count": 12,
   "id": "cd665347",
   "metadata": {
    "execution": {
     "iopub.execute_input": "2024-06-10T12:05:03.700620Z",
     "iopub.status.busy": "2024-06-10T12:05:03.700165Z",
     "iopub.status.idle": "2024-06-10T12:05:03.711009Z",
     "shell.execute_reply": "2024-06-10T12:05:03.709852Z"
    },
    "papermill": {
     "duration": 0.028353,
     "end_time": "2024-06-10T12:05:03.713669",
     "exception": false,
     "start_time": "2024-06-10T12:05:03.685316",
     "status": "completed"
    },
    "tags": []
   },
   "outputs": [
    {
     "data": {
      "text/plain": [
       "Index(['id', 'activity_date', 'total_steps', 'total_distance',\n",
       "       'tracker_distance', 'logged_activities_distance',\n",
       "       'very_active_distance', 'moderately_active_distance',\n",
       "       'light_active_distance', 'sedentary_active_distance',\n",
       "       'very_active_minutes', 'fairly_active_minutes',\n",
       "       'lightly_active_minutes', 'sedentary_minutes', 'calories',\n",
       "       'distance_diff'],\n",
       "      dtype='object')"
      ]
     },
     "execution_count": 12,
     "metadata": {},
     "output_type": "execute_result"
    }
   ],
   "source": [
    "df.rename(columns = {'activitydate':'activity_date', 'totalsteps':'total_steps', 'totaldistance':'total_distance', 'trackerdistance':'tracker_distance','loggedactivitiesdistance':'logged_activities_distance', 'veryactivedistance': 'very_active_distance',\n",
    "       'moderatelyactivedistance':'moderately_active_distance', 'lightactivedistance':'light_active_distance','sedentaryactivedistance':'sedentary_active_distance', 'veryactiveminutes': 'very_active_minutes', 'fairlyactiveminutes': 'fairly_active_minutes',\n",
    "       'lightlyactiveminutes':'lightly_active_minutes', 'sedentaryminutes':'sedentary_minutes'}, inplace = True)\n",
    "\n",
    "df.columns"
   ]
  },
  {
   "cell_type": "code",
   "execution_count": 13,
   "id": "a2bf5db1",
   "metadata": {
    "execution": {
     "iopub.execute_input": "2024-06-10T12:05:03.739609Z",
     "iopub.status.busy": "2024-06-10T12:05:03.739173Z",
     "iopub.status.idle": "2024-06-10T12:05:03.749816Z",
     "shell.execute_reply": "2024-06-10T12:05:03.748617Z"
    },
    "papermill": {
     "duration": 0.027107,
     "end_time": "2024-06-10T12:05:03.752480",
     "exception": false,
     "start_time": "2024-06-10T12:05:03.725373",
     "status": "completed"
    },
    "tags": []
   },
   "outputs": [],
   "source": [
    "# creat columns\n",
    "day_of_week = df['activity_date'].dt.day_name()\n",
    "df['day_of_week'] = day_of_week\n",
    "\n",
    "df['n_day_of_week'] = df['activity_date'].dt.weekday # 0= monday / 6 = sunday"
   ]
  },
  {
   "cell_type": "code",
   "execution_count": 14,
   "id": "5180a7bd",
   "metadata": {
    "execution": {
     "iopub.execute_input": "2024-06-10T12:05:03.778552Z",
     "iopub.status.busy": "2024-06-10T12:05:03.777746Z",
     "iopub.status.idle": "2024-06-10T12:05:03.801705Z",
     "shell.execute_reply": "2024-06-10T12:05:03.800483Z"
    },
    "papermill": {
     "duration": 0.039937,
     "end_time": "2024-06-10T12:05:03.804439",
     "exception": false,
     "start_time": "2024-06-10T12:05:03.764502",
     "status": "completed"
    },
    "tags": []
   },
   "outputs": [
    {
     "data": {
      "text/html": [
       "<div>\n",
       "<style scoped>\n",
       "    .dataframe tbody tr th:only-of-type {\n",
       "        vertical-align: middle;\n",
       "    }\n",
       "\n",
       "    .dataframe tbody tr th {\n",
       "        vertical-align: top;\n",
       "    }\n",
       "\n",
       "    .dataframe thead th {\n",
       "        text-align: right;\n",
       "    }\n",
       "</style>\n",
       "<table border=\"1\" class=\"dataframe\">\n",
       "  <thead>\n",
       "    <tr style=\"text-align: right;\">\n",
       "      <th></th>\n",
       "      <th>id</th>\n",
       "      <th>activity_date</th>\n",
       "      <th>total_steps</th>\n",
       "      <th>total_distance</th>\n",
       "      <th>tracker_distance</th>\n",
       "      <th>logged_activities_distance</th>\n",
       "      <th>very_active_distance</th>\n",
       "      <th>moderately_active_distance</th>\n",
       "      <th>light_active_distance</th>\n",
       "      <th>sedentary_active_distance</th>\n",
       "      <th>very_active_minutes</th>\n",
       "      <th>fairly_active_minutes</th>\n",
       "      <th>lightly_active_minutes</th>\n",
       "      <th>sedentary_minutes</th>\n",
       "      <th>calories</th>\n",
       "      <th>distance_diff</th>\n",
       "      <th>day_of_week</th>\n",
       "      <th>n_day_of_week</th>\n",
       "    </tr>\n",
       "  </thead>\n",
       "  <tbody>\n",
       "    <tr>\n",
       "      <th>0</th>\n",
       "      <td>1503960366</td>\n",
       "      <td>2016-04-12</td>\n",
       "      <td>13162</td>\n",
       "      <td>8.50</td>\n",
       "      <td>8.50</td>\n",
       "      <td>0.0</td>\n",
       "      <td>1.88</td>\n",
       "      <td>0.55</td>\n",
       "      <td>6.06</td>\n",
       "      <td>0.0</td>\n",
       "      <td>25</td>\n",
       "      <td>13</td>\n",
       "      <td>328</td>\n",
       "      <td>728</td>\n",
       "      <td>1985</td>\n",
       "      <td>0.0</td>\n",
       "      <td>Tuesday</td>\n",
       "      <td>1</td>\n",
       "    </tr>\n",
       "    <tr>\n",
       "      <th>1</th>\n",
       "      <td>1503960366</td>\n",
       "      <td>2016-04-13</td>\n",
       "      <td>10735</td>\n",
       "      <td>6.97</td>\n",
       "      <td>6.97</td>\n",
       "      <td>0.0</td>\n",
       "      <td>1.57</td>\n",
       "      <td>0.69</td>\n",
       "      <td>4.71</td>\n",
       "      <td>0.0</td>\n",
       "      <td>21</td>\n",
       "      <td>19</td>\n",
       "      <td>217</td>\n",
       "      <td>776</td>\n",
       "      <td>1797</td>\n",
       "      <td>0.0</td>\n",
       "      <td>Wednesday</td>\n",
       "      <td>2</td>\n",
       "    </tr>\n",
       "    <tr>\n",
       "      <th>2</th>\n",
       "      <td>1503960366</td>\n",
       "      <td>2016-04-14</td>\n",
       "      <td>10460</td>\n",
       "      <td>6.74</td>\n",
       "      <td>6.74</td>\n",
       "      <td>0.0</td>\n",
       "      <td>2.44</td>\n",
       "      <td>0.40</td>\n",
       "      <td>3.91</td>\n",
       "      <td>0.0</td>\n",
       "      <td>30</td>\n",
       "      <td>11</td>\n",
       "      <td>181</td>\n",
       "      <td>1218</td>\n",
       "      <td>1776</td>\n",
       "      <td>0.0</td>\n",
       "      <td>Thursday</td>\n",
       "      <td>3</td>\n",
       "    </tr>\n",
       "    <tr>\n",
       "      <th>3</th>\n",
       "      <td>1503960366</td>\n",
       "      <td>2016-04-15</td>\n",
       "      <td>9762</td>\n",
       "      <td>6.28</td>\n",
       "      <td>6.28</td>\n",
       "      <td>0.0</td>\n",
       "      <td>2.14</td>\n",
       "      <td>1.26</td>\n",
       "      <td>2.83</td>\n",
       "      <td>0.0</td>\n",
       "      <td>29</td>\n",
       "      <td>34</td>\n",
       "      <td>209</td>\n",
       "      <td>726</td>\n",
       "      <td>1745</td>\n",
       "      <td>0.0</td>\n",
       "      <td>Friday</td>\n",
       "      <td>4</td>\n",
       "    </tr>\n",
       "  </tbody>\n",
       "</table>\n",
       "</div>"
      ],
      "text/plain": [
       "           id activity_date  total_steps  total_distance  tracker_distance  \\\n",
       "0  1503960366    2016-04-12        13162            8.50              8.50   \n",
       "1  1503960366    2016-04-13        10735            6.97              6.97   \n",
       "2  1503960366    2016-04-14        10460            6.74              6.74   \n",
       "3  1503960366    2016-04-15         9762            6.28              6.28   \n",
       "\n",
       "   logged_activities_distance  very_active_distance  \\\n",
       "0                         0.0                  1.88   \n",
       "1                         0.0                  1.57   \n",
       "2                         0.0                  2.44   \n",
       "3                         0.0                  2.14   \n",
       "\n",
       "   moderately_active_distance  light_active_distance  \\\n",
       "0                        0.55                   6.06   \n",
       "1                        0.69                   4.71   \n",
       "2                        0.40                   3.91   \n",
       "3                        1.26                   2.83   \n",
       "\n",
       "   sedentary_active_distance  very_active_minutes  fairly_active_minutes  \\\n",
       "0                        0.0                   25                     13   \n",
       "1                        0.0                   21                     19   \n",
       "2                        0.0                   30                     11   \n",
       "3                        0.0                   29                     34   \n",
       "\n",
       "   lightly_active_minutes  sedentary_minutes  calories  distance_diff  \\\n",
       "0                     328                728      1985            0.0   \n",
       "1                     217                776      1797            0.0   \n",
       "2                     181               1218      1776            0.0   \n",
       "3                     209                726      1745            0.0   \n",
       "\n",
       "  day_of_week  n_day_of_week  \n",
       "0     Tuesday              1  \n",
       "1   Wednesday              2  \n",
       "2    Thursday              3  \n",
       "3      Friday              4  "
      ]
     },
     "execution_count": 14,
     "metadata": {},
     "output_type": "execute_result"
    }
   ],
   "source": [
    "df.head(4)"
   ]
  },
  {
   "cell_type": "code",
   "execution_count": 15,
   "id": "07e45f25",
   "metadata": {
    "execution": {
     "iopub.execute_input": "2024-06-10T12:05:03.830267Z",
     "iopub.status.busy": "2024-06-10T12:05:03.829894Z",
     "iopub.status.idle": "2024-06-10T12:05:03.840071Z",
     "shell.execute_reply": "2024-06-10T12:05:03.839017Z"
    },
    "papermill": {
     "duration": 0.026075,
     "end_time": "2024-06-10T12:05:03.842696",
     "exception": false,
     "start_time": "2024-06-10T12:05:03.816621",
     "status": "completed"
    },
    "tags": []
   },
   "outputs": [
    {
     "data": {
      "text/plain": [
       "id                            0\n",
       "activity_date                 0\n",
       "total_steps                   0\n",
       "total_distance                0\n",
       "tracker_distance              0\n",
       "logged_activities_distance    0\n",
       "very_active_distance          0\n",
       "moderately_active_distance    0\n",
       "light_active_distance         0\n",
       "sedentary_active_distance     0\n",
       "very_active_minutes           0\n",
       "fairly_active_minutes         0\n",
       "lightly_active_minutes        0\n",
       "sedentary_minutes             0\n",
       "calories                      0\n",
       "distance_diff                 0\n",
       "day_of_week                   0\n",
       "n_day_of_week                 0\n",
       "dtype: int64"
      ]
     },
     "execution_count": 15,
     "metadata": {},
     "output_type": "execute_result"
    }
   ],
   "source": [
    "#cheking null values\n",
    "df.isna().sum()"
   ]
  },
  {
   "cell_type": "code",
   "execution_count": 16,
   "id": "b9f33fae",
   "metadata": {
    "execution": {
     "iopub.execute_input": "2024-06-10T12:05:03.868853Z",
     "iopub.status.busy": "2024-06-10T12:05:03.868428Z",
     "iopub.status.idle": "2024-06-10T12:05:03.882083Z",
     "shell.execute_reply": "2024-06-10T12:05:03.881054Z"
    },
    "papermill": {
     "duration": 0.030038,
     "end_time": "2024-06-10T12:05:03.884767",
     "exception": false,
     "start_time": "2024-06-10T12:05:03.854729",
     "status": "completed"
    },
    "tags": []
   },
   "outputs": [
    {
     "data": {
      "text/plain": [
       "0"
      ]
     },
     "execution_count": 16,
     "metadata": {},
     "output_type": "execute_result"
    }
   ],
   "source": [
    "#cheking duplicates\n",
    "df.duplicated().sum() #by roll"
   ]
  },
  {
   "cell_type": "code",
   "execution_count": 17,
   "id": "b422dea5",
   "metadata": {
    "execution": {
     "iopub.execute_input": "2024-06-10T12:05:03.911309Z",
     "iopub.status.busy": "2024-06-10T12:05:03.910908Z",
     "iopub.status.idle": "2024-06-10T12:05:03.919034Z",
     "shell.execute_reply": "2024-06-10T12:05:03.917903Z"
    },
    "papermill": {
     "duration": 0.024648,
     "end_time": "2024-06-10T12:05:03.921648",
     "exception": false,
     "start_time": "2024-06-10T12:05:03.897000",
     "status": "completed"
    },
    "tags": []
   },
   "outputs": [],
   "source": [
    "#subset data\n",
    "df = df[['id', 'activity_date', 'total_steps', 'total_distance',\n",
    "       #'tracker_distance', 'logged_activities_distance',\n",
    "       #'very_active_distance', 'moderately_active_distance',\n",
    "       #'light_active_distance', 'sedentary_active_distance',\n",
    "       'very_active_minutes', 'fairly_active_minutes',\n",
    "       'lightly_active_minutes', 'sedentary_minutes', 'calories']].copy()\n"
   ]
  },
  {
   "cell_type": "code",
   "execution_count": 18,
   "id": "46387529",
   "metadata": {
    "execution": {
     "iopub.execute_input": "2024-06-10T12:05:03.948997Z",
     "iopub.status.busy": "2024-06-10T12:05:03.948524Z",
     "iopub.status.idle": "2024-06-10T12:05:03.964818Z",
     "shell.execute_reply": "2024-06-10T12:05:03.963473Z"
    },
    "papermill": {
     "duration": 0.033395,
     "end_time": "2024-06-10T12:05:03.967545",
     "exception": false,
     "start_time": "2024-06-10T12:05:03.934150",
     "status": "completed"
    },
    "tags": []
   },
   "outputs": [
    {
     "data": {
      "text/html": [
       "<div>\n",
       "<style scoped>\n",
       "    .dataframe tbody tr th:only-of-type {\n",
       "        vertical-align: middle;\n",
       "    }\n",
       "\n",
       "    .dataframe tbody tr th {\n",
       "        vertical-align: top;\n",
       "    }\n",
       "\n",
       "    .dataframe thead th {\n",
       "        text-align: right;\n",
       "    }\n",
       "</style>\n",
       "<table border=\"1\" class=\"dataframe\">\n",
       "  <thead>\n",
       "    <tr style=\"text-align: right;\">\n",
       "      <th></th>\n",
       "      <th>id</th>\n",
       "      <th>activity_date</th>\n",
       "      <th>total_steps</th>\n",
       "      <th>total_distance</th>\n",
       "      <th>very_active_minutes</th>\n",
       "      <th>fairly_active_minutes</th>\n",
       "      <th>lightly_active_minutes</th>\n",
       "      <th>sedentary_minutes</th>\n",
       "      <th>calories</th>\n",
       "    </tr>\n",
       "  </thead>\n",
       "  <tbody>\n",
       "    <tr>\n",
       "      <th>0</th>\n",
       "      <td>1503960366</td>\n",
       "      <td>2016-04-12</td>\n",
       "      <td>13162</td>\n",
       "      <td>8.50</td>\n",
       "      <td>25</td>\n",
       "      <td>13</td>\n",
       "      <td>328</td>\n",
       "      <td>728</td>\n",
       "      <td>1985</td>\n",
       "    </tr>\n",
       "    <tr>\n",
       "      <th>1</th>\n",
       "      <td>1503960366</td>\n",
       "      <td>2016-04-13</td>\n",
       "      <td>10735</td>\n",
       "      <td>6.97</td>\n",
       "      <td>21</td>\n",
       "      <td>19</td>\n",
       "      <td>217</td>\n",
       "      <td>776</td>\n",
       "      <td>1797</td>\n",
       "    </tr>\n",
       "    <tr>\n",
       "      <th>2</th>\n",
       "      <td>1503960366</td>\n",
       "      <td>2016-04-14</td>\n",
       "      <td>10460</td>\n",
       "      <td>6.74</td>\n",
       "      <td>30</td>\n",
       "      <td>11</td>\n",
       "      <td>181</td>\n",
       "      <td>1218</td>\n",
       "      <td>1776</td>\n",
       "    </tr>\n",
       "    <tr>\n",
       "      <th>3</th>\n",
       "      <td>1503960366</td>\n",
       "      <td>2016-04-15</td>\n",
       "      <td>9762</td>\n",
       "      <td>6.28</td>\n",
       "      <td>29</td>\n",
       "      <td>34</td>\n",
       "      <td>209</td>\n",
       "      <td>726</td>\n",
       "      <td>1745</td>\n",
       "    </tr>\n",
       "  </tbody>\n",
       "</table>\n",
       "</div>"
      ],
      "text/plain": [
       "           id activity_date  total_steps  total_distance  very_active_minutes  \\\n",
       "0  1503960366    2016-04-12        13162            8.50                   25   \n",
       "1  1503960366    2016-04-13        10735            6.97                   21   \n",
       "2  1503960366    2016-04-14        10460            6.74                   30   \n",
       "3  1503960366    2016-04-15         9762            6.28                   29   \n",
       "\n",
       "   fairly_active_minutes  lightly_active_minutes  sedentary_minutes  calories  \n",
       "0                     13                     328                728      1985  \n",
       "1                     19                     217                776      1797  \n",
       "2                     11                     181               1218      1776  \n",
       "3                     34                     209                726      1745  "
      ]
     },
     "execution_count": 18,
     "metadata": {},
     "output_type": "execute_result"
    }
   ],
   "source": [
    "df.head(4)"
   ]
  },
  {
   "cell_type": "markdown",
   "id": "26fa8b05",
   "metadata": {
    "papermill": {
     "duration": 0.012253,
     "end_time": "2024-06-10T12:05:03.992400",
     "exception": false,
     "start_time": "2024-06-10T12:05:03.980147",
     "status": "completed"
    },
    "tags": []
   },
   "source": [
    "As colunas referentes à \"distancias\" não informam a unidade de medida (km,m, milhas etc) então não serão usadas. Além disso, a coluna \"total_steps\" está correlacionada à \"total_distance\" (maior os passos, maior a distância) o que dá uma noção de distância."
   ]
  },
  {
   "cell_type": "markdown",
   "id": "5c8d7e26",
   "metadata": {
    "papermill": {
     "duration": 0.013154,
     "end_time": "2024-06-10T12:05:04.018030",
     "exception": false,
     "start_time": "2024-06-10T12:05:04.004876",
     "status": "completed"
    },
    "tags": []
   },
   "source": [
    "Análises para entender os padrões de atividade física dos participantes (#analysis 46:00)\n",
    "\n",
    "- Medidas de Tendência Central: Calcular a média, mediana e moda para cada variável (total_steps, total_distance, etc.) para ter uma ideia do valor central dos dados.\n",
    "\n",
    "\n"
   ]
  },
  {
   "cell_type": "code",
   "execution_count": 19,
   "id": "836dbc93",
   "metadata": {
    "execution": {
     "iopub.execute_input": "2024-06-10T12:05:04.045433Z",
     "iopub.status.busy": "2024-06-10T12:05:04.045018Z",
     "iopub.status.idle": "2024-06-10T12:05:04.055432Z",
     "shell.execute_reply": "2024-06-10T12:05:04.054139Z"
    },
    "papermill": {
     "duration": 0.027102,
     "end_time": "2024-06-10T12:05:04.058106",
     "exception": false,
     "start_time": "2024-06-10T12:05:04.031004",
     "status": "completed"
    },
    "tags": []
   },
   "outputs": [
    {
     "name": "stdout",
     "output_type": "stream",
     "text": [
      "id                                                  inf\n",
      "activity_date             2016-04-26 06:53:37.021276672\n",
      "total_steps                                 7637.910638\n",
      "total_distance                                 5.489702\n",
      "very_active_minutes                           21.164894\n",
      "fairly_active_minutes                         13.564894\n",
      "lightly_active_minutes                       192.812766\n",
      "sedentary_minutes                            991.210638\n",
      "calories                                    2303.609574\n",
      "dtype: object\n"
     ]
    }
   ],
   "source": [
    "media = df.mean()\n",
    "print(media)"
   ]
  },
  {
   "cell_type": "code",
   "execution_count": 20,
   "id": "8493216e",
   "metadata": {
    "execution": {
     "iopub.execute_input": "2024-06-10T12:05:04.085236Z",
     "iopub.status.busy": "2024-06-10T12:05:04.084824Z",
     "iopub.status.idle": "2024-06-10T12:05:04.098306Z",
     "shell.execute_reply": "2024-06-10T12:05:04.097015Z"
    },
    "papermill": {
     "duration": 0.030119,
     "end_time": "2024-06-10T12:05:04.100902",
     "exception": false,
     "start_time": "2024-06-10T12:05:04.070783",
     "status": "completed"
    },
    "tags": []
   },
   "outputs": [
    {
     "name": "stdout",
     "output_type": "stream",
     "text": [
      "id                               4445114986.0\n",
      "activity_date             2016-04-26 00:00:00\n",
      "total_steps                            7405.5\n",
      "total_distance                          5.245\n",
      "very_active_minutes                       4.0\n",
      "fairly_active_minutes                     6.0\n",
      "lightly_active_minutes                  199.0\n",
      "sedentary_minutes                      1057.5\n",
      "calories                               2134.0\n",
      "dtype: object\n"
     ]
    }
   ],
   "source": [
    "mediana = df.median()\n",
    "print(mediana)"
   ]
  },
  {
   "cell_type": "code",
   "execution_count": 21,
   "id": "7edcec6d",
   "metadata": {
    "execution": {
     "iopub.execute_input": "2024-06-10T12:05:04.128520Z",
     "iopub.status.busy": "2024-06-10T12:05:04.127770Z",
     "iopub.status.idle": "2024-06-10T12:05:04.164449Z",
     "shell.execute_reply": "2024-06-10T12:05:04.163323Z"
    },
    "papermill": {
     "duration": 0.053698,
     "end_time": "2024-06-10T12:05:04.167273",
     "exception": false,
     "start_time": "2024-06-10T12:05:04.113575",
     "status": "completed"
    },
    "tags": []
   },
   "outputs": [
    {
     "name": "stdout",
     "output_type": "stream",
     "text": [
      "                       activity_date   total_steps  total_distance  \\\n",
      "count                            940    940.000000      940.000000   \n",
      "mean   2016-04-26 06:53:37.021276672   7637.910638        5.489702   \n",
      "min              2016-04-12 00:00:00      0.000000        0.000000   \n",
      "25%              2016-04-19 00:00:00   3789.750000        2.620000   \n",
      "50%              2016-04-26 00:00:00   7405.500000        5.245000   \n",
      "75%              2016-05-04 00:00:00  10727.000000        7.712500   \n",
      "max              2016-05-12 00:00:00  36019.000000       28.030001   \n",
      "std                              NaN   5087.150742        3.924606   \n",
      "\n",
      "       very_active_minutes  fairly_active_minutes  lightly_active_minutes  \\\n",
      "count           940.000000             940.000000              940.000000   \n",
      "mean             21.164894              13.564894              192.812766   \n",
      "min               0.000000               0.000000                0.000000   \n",
      "25%               0.000000               0.000000              127.000000   \n",
      "50%               4.000000               6.000000              199.000000   \n",
      "75%              32.000000              19.000000              264.000000   \n",
      "max             210.000000             143.000000              518.000000   \n",
      "std              32.844803              19.987404              109.174700   \n",
      "\n",
      "       sedentary_minutes     calories  \n",
      "count         940.000000   940.000000  \n",
      "mean          991.210638  2303.609574  \n",
      "min             0.000000     0.000000  \n",
      "25%           729.750000  1828.500000  \n",
      "50%          1057.500000  2134.000000  \n",
      "75%          1229.500000  2793.250000  \n",
      "max          1440.000000  4900.000000  \n",
      "std           301.267437   718.166862  \n"
     ]
    }
   ],
   "source": [
    "descricao = df.describe()\n",
    "print(descricao)"
   ]
  },
  {
   "cell_type": "code",
   "execution_count": 22,
   "id": "b76e6ee9",
   "metadata": {
    "execution": {
     "iopub.execute_input": "2024-06-10T12:05:04.195418Z",
     "iopub.status.busy": "2024-06-10T12:05:04.195029Z",
     "iopub.status.idle": "2024-06-10T12:05:05.672703Z",
     "shell.execute_reply": "2024-06-10T12:05:05.671488Z"
    },
    "papermill": {
     "duration": 1.49507,
     "end_time": "2024-06-10T12:05:05.675392",
     "exception": false,
     "start_time": "2024-06-10T12:05:04.180322",
     "status": "completed"
    },
    "tags": []
   },
   "outputs": [
    {
     "data": {
      "image/png": "[encoded data removed]",
      "text/plain": [
       "<Figure size 640x480 with 9 Axes>"
      ]
     },
     "metadata": {},
     "output_type": "display_data"
    }
   ],
   "source": [
    "#histograma para variáveis numéricas\n",
    "df.hist()\n",
    "plt.show()"
   ]
  }
 ],
 "metadata": {
  "kaggle": {
   "accelerator": "none",
   "dataSources": [
    {
     "databundleVersionId": 7846685,
     "datasetId": 1041311,
     "sourceId": 7746251,
     "sourceType": "datasetVersion"
    }
   ],
   "dockerImageVersionId": 30635,
   "isGpuEnabled": false,
   "isInternetEnabled": false,
   "language": "python",
   "sourceType": "notebook"
  },
  "kernelspec": {
   "display_name": "Python 3",
   "language": "python",
   "name": "python3"
  },
  "language_info": {
   "codemirror_mode": {
    "name": "ipython",
    "version": 3
   },
   "file_extension": ".py",
   "mimetype": "text/x-python",
   "name": "python",
   "nbconvert_exporter": "python",
   "pygments_lexer": "ipython3",
   "version": "3.10.12"
  },
  "papermill": {
   "default_parameters": {},
   "duration": 10.247702,
   "end_time": "2024-06-10T12:05:06.310617",
   "environment_variables": {},
   "exception": null,
   "input_path": "__notebook__.ipynb",
   "output_path": "__notebook__.ipynb",
   "parameters": {},
   "start_time": "2024-06-10T12:04:56.062915",
   "version": "2.4.0"
  }
 },
 "nbformat": 4,
 "nbformat_minor": 5
}
