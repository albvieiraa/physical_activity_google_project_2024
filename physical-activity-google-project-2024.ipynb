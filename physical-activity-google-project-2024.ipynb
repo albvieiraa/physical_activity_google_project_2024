{
 "cells": [
  {
   "cell_type": "markdown",
   "id": "c9865ca6",
   "metadata": {
    "papermill": {
     "duration": 0.011363,
     "end_time": "2024-09-08T13:22:38.061232",
     "exception": false,
     "start_time": "2024-09-08T13:22:38.049869",
     "status": "completed"
    },
    "tags": []
   },
   "source": [
    "Projeto da certificação do Google Data Analysis.\n",
    "- A preparação dos dados foi realizada com auxílio do tutorial encontrado no seguinte link: https://www.youtube.com/watch?v=JsI71WjM5bo&t=164s&ab_channel=JuanMart%C3%ADnezII\n",
    "\n",
    "- Apesar de simplificada, a análise foi feita com o objetivo de praticar e com o tempo terá updates."
   ]
  },
  {
   "cell_type": "code",
   "execution_count": 1,
   "id": "e2471d46",
   "metadata": {
    "execution": {
     "iopub.execute_input": "2024-09-08T13:22:38.085992Z",
     "iopub.status.busy": "2024-09-08T13:22:38.085001Z",
     "iopub.status.idle": "2024-09-08T13:22:40.320071Z",
     "shell.execute_reply": "2024-09-08T13:22:40.318865Z"
    },
    "papermill": {
     "duration": 2.250646,
     "end_time": "2024-09-08T13:22:40.323103",
     "exception": false,
     "start_time": "2024-09-08T13:22:38.072457",
     "status": "completed"
    },
    "tags": []
   },
   "outputs": [],
   "source": [
    "import numpy as np\n",
    "import pandas as pd\n",
    "import matplotlib.pyplot as plt\n",
    "import seaborn as sns\n",
    "plt.style.use('ggplot')\n",
    "import datetime as dt\n",
    "\n",
    "#pd.set.option('max_column')"
   ]
  },
  {
   "cell_type": "markdown",
   "id": "443a149b",
   "metadata": {
    "papermill": {
     "duration": 0.010836,
     "end_time": "2024-09-08T13:22:40.345084",
     "exception": false,
     "start_time": "2024-09-08T13:22:40.334248",
     "status": "completed"
    },
    "tags": []
   },
   "source": [
    "## Preparing data"
   ]
  },
  {
   "cell_type": "code",
   "execution_count": 2,
   "id": "6a5db8c1",
   "metadata": {
    "execution": {
     "iopub.execute_input": "2024-09-08T13:22:40.369208Z",
     "iopub.status.busy": "2024-09-08T13:22:40.368644Z",
     "iopub.status.idle": "2024-09-08T13:22:40.407161Z",
     "shell.execute_reply": "2024-09-08T13:22:40.406142Z"
    },
    "papermill": {
     "duration": 0.053668,
     "end_time": "2024-09-08T13:22:40.409899",
     "exception": false,
     "start_time": "2024-09-08T13:22:40.356231",
     "status": "completed"
    },
    "tags": []
   },
   "outputs": [],
   "source": [
    "#preparing data\n",
    "df = pd.read_csv('/kaggle/input/fitbit/mturkfitbit_export_4.12.16-5.12.16/Fitabase Data 4.12.16-5.12.16/dailyActivity_merged.csv')"
   ]
  },
  {
   "cell_type": "code",
   "execution_count": 3,
   "id": "8e1d6e51",
   "metadata": {
    "execution": {
     "iopub.execute_input": "2024-09-08T13:22:40.433602Z",
     "iopub.status.busy": "2024-09-08T13:22:40.433195Z",
     "iopub.status.idle": "2024-09-08T13:22:40.439602Z",
     "shell.execute_reply": "2024-09-08T13:22:40.438335Z"
    },
    "papermill": {
     "duration": 0.020895,
     "end_time": "2024-09-08T13:22:40.442053",
     "exception": false,
     "start_time": "2024-09-08T13:22:40.421158",
     "status": "completed"
    },
    "tags": []
   },
   "outputs": [
    {
     "name": "stdout",
     "output_type": "stream",
     "text": [
      "Quantity of lines: 940\n",
      "Quantity of columns: 15\n"
     ]
    }
   ],
   "source": [
    "#dimensions of df\n",
    "print(f\"Quantity of lines: {df.shape[0]}\")\n",
    "print(f\"Quantity of columns: {df.shape[1]}\")"
   ]
  },
  {
   "cell_type": "code",
   "execution_count": 4,
   "id": "1043b820",
   "metadata": {
    "execution": {
     "iopub.execute_input": "2024-09-08T13:22:40.466586Z",
     "iopub.status.busy": "2024-09-08T13:22:40.465823Z",
     "iopub.status.idle": "2024-09-08T13:22:40.473951Z",
     "shell.execute_reply": "2024-09-08T13:22:40.472868Z"
    },
    "papermill": {
     "duration": 0.022932,
     "end_time": "2024-09-08T13:22:40.476361",
     "exception": false,
     "start_time": "2024-09-08T13:22:40.453429",
     "status": "completed"
    },
    "tags": []
   },
   "outputs": [
    {
     "data": {
      "text/plain": [
       "Index(['Id', 'ActivityDate', 'TotalSteps', 'TotalDistance', 'TrackerDistance',\n",
       "       'LoggedActivitiesDistance', 'VeryActiveDistance',\n",
       "       'ModeratelyActiveDistance', 'LightActiveDistance',\n",
       "       'SedentaryActiveDistance', 'VeryActiveMinutes', 'FairlyActiveMinutes',\n",
       "       'LightlyActiveMinutes', 'SedentaryMinutes', 'Calories'],\n",
       "      dtype='object')"
      ]
     },
     "execution_count": 4,
     "metadata": {},
     "output_type": "execute_result"
    }
   ],
   "source": [
    "#columns's name\n",
    "df.columns"
   ]
  },
  {
   "cell_type": "code",
   "execution_count": 5,
   "id": "4dd70aa5",
   "metadata": {
    "execution": {
     "iopub.execute_input": "2024-09-08T13:22:40.501098Z",
     "iopub.status.busy": "2024-09-08T13:22:40.500324Z",
     "iopub.status.idle": "2024-09-08T13:22:40.535767Z",
     "shell.execute_reply": "2024-09-08T13:22:40.534522Z"
    },
    "papermill": {
     "duration": 0.051012,
     "end_time": "2024-09-08T13:22:40.538757",
     "exception": false,
     "start_time": "2024-09-08T13:22:40.487745",
     "status": "completed"
    },
    "tags": []
   },
   "outputs": [
    {
     "name": "stdout",
     "output_type": "stream",
     "text": [
      "<class 'pandas.core.frame.DataFrame'>\n",
      "RangeIndex: 940 entries, 0 to 939\n",
      "Data columns (total 15 columns):\n",
      " #   Column                    Non-Null Count  Dtype  \n",
      "---  ------                    --------------  -----  \n",
      " 0   Id                        940 non-null    int64  \n",
      " 1   ActivityDate              940 non-null    object \n",
      " 2   TotalSteps                940 non-null    int64  \n",
      " 3   TotalDistance             940 non-null    float64\n",
      " 4   TrackerDistance           940 non-null    float64\n",
      " 5   LoggedActivitiesDistance  940 non-null    float64\n",
      " 6   VeryActiveDistance        940 non-null    float64\n",
      " 7   ModeratelyActiveDistance  940 non-null    float64\n",
      " 8   LightActiveDistance       940 non-null    float64\n",
      " 9   SedentaryActiveDistance   940 non-null    float64\n",
      " 10  VeryActiveMinutes         940 non-null    int64  \n",
      " 11  FairlyActiveMinutes       940 non-null    int64  \n",
      " 12  LightlyActiveMinutes      940 non-null    int64  \n",
      " 13  SedentaryMinutes          940 non-null    int64  \n",
      " 14  Calories                  940 non-null    int64  \n",
      "dtypes: float64(7), int64(7), object(1)\n",
      "memory usage: 110.3+ KB\n"
     ]
    }
   ],
   "source": [
    "#getting informations\n",
    "df.info()"
   ]
  },
  {
   "cell_type": "code",
   "execution_count": 6,
   "id": "11996a58",
   "metadata": {
    "execution": {
     "iopub.execute_input": "2024-09-08T13:22:40.563764Z",
     "iopub.status.busy": "2024-09-08T13:22:40.563343Z",
     "iopub.status.idle": "2024-09-08T13:22:40.670401Z",
     "shell.execute_reply": "2024-09-08T13:22:40.669280Z"
    },
    "papermill": {
     "duration": 0.122608,
     "end_time": "2024-09-08T13:22:40.673155",
     "exception": false,
     "start_time": "2024-09-08T13:22:40.550547",
     "status": "completed"
    },
    "tags": []
   },
   "outputs": [
    {
     "data": {
      "text/html": [
       "<div>\n",
       "<style scoped>\n",
       "    .dataframe tbody tr th:only-of-type {\n",
       "        vertical-align: middle;\n",
       "    }\n",
       "\n",
       "    .dataframe tbody tr th {\n",
       "        vertical-align: top;\n",
       "    }\n",
       "\n",
       "    .dataframe thead th {\n",
       "        text-align: right;\n",
       "    }\n",
       "</style>\n",
       "<table border=\"1\" class=\"dataframe\">\n",
       "  <thead>\n",
       "    <tr style=\"text-align: right;\">\n",
       "      <th></th>\n",
       "      <th>Id</th>\n",
       "      <th>ActivityDate</th>\n",
       "      <th>TotalSteps</th>\n",
       "      <th>TotalDistance</th>\n",
       "      <th>TrackerDistance</th>\n",
       "      <th>LoggedActivitiesDistance</th>\n",
       "      <th>VeryActiveDistance</th>\n",
       "      <th>ModeratelyActiveDistance</th>\n",
       "      <th>LightActiveDistance</th>\n",
       "      <th>SedentaryActiveDistance</th>\n",
       "      <th>VeryActiveMinutes</th>\n",
       "      <th>FairlyActiveMinutes</th>\n",
       "      <th>LightlyActiveMinutes</th>\n",
       "      <th>SedentaryMinutes</th>\n",
       "      <th>Calories</th>\n",
       "    </tr>\n",
       "  </thead>\n",
       "  <tbody>\n",
       "    <tr>\n",
       "      <th>0</th>\n",
       "      <td>1503960366</td>\n",
       "      <td>4/12/2016</td>\n",
       "      <td>13162</td>\n",
       "      <td>8.50</td>\n",
       "      <td>8.50</td>\n",
       "      <td>0.0</td>\n",
       "      <td>1.88</td>\n",
       "      <td>0.55</td>\n",
       "      <td>6.06</td>\n",
       "      <td>0.0</td>\n",
       "      <td>25</td>\n",
       "      <td>13</td>\n",
       "      <td>328</td>\n",
       "      <td>728</td>\n",
       "      <td>1985</td>\n",
       "    </tr>\n",
       "    <tr>\n",
       "      <th>1</th>\n",
       "      <td>1503960366</td>\n",
       "      <td>4/13/2016</td>\n",
       "      <td>10735</td>\n",
       "      <td>6.97</td>\n",
       "      <td>6.97</td>\n",
       "      <td>0.0</td>\n",
       "      <td>1.57</td>\n",
       "      <td>0.69</td>\n",
       "      <td>4.71</td>\n",
       "      <td>0.0</td>\n",
       "      <td>21</td>\n",
       "      <td>19</td>\n",
       "      <td>217</td>\n",
       "      <td>776</td>\n",
       "      <td>1797</td>\n",
       "    </tr>\n",
       "    <tr>\n",
       "      <th>2</th>\n",
       "      <td>1503960366</td>\n",
       "      <td>4/14/2016</td>\n",
       "      <td>10460</td>\n",
       "      <td>6.74</td>\n",
       "      <td>6.74</td>\n",
       "      <td>0.0</td>\n",
       "      <td>2.44</td>\n",
       "      <td>0.40</td>\n",
       "      <td>3.91</td>\n",
       "      <td>0.0</td>\n",
       "      <td>30</td>\n",
       "      <td>11</td>\n",
       "      <td>181</td>\n",
       "      <td>1218</td>\n",
       "      <td>1776</td>\n",
       "    </tr>\n",
       "    <tr>\n",
       "      <th>3</th>\n",
       "      <td>1503960366</td>\n",
       "      <td>4/15/2016</td>\n",
       "      <td>9762</td>\n",
       "      <td>6.28</td>\n",
       "      <td>6.28</td>\n",
       "      <td>0.0</td>\n",
       "      <td>2.14</td>\n",
       "      <td>1.26</td>\n",
       "      <td>2.83</td>\n",
       "      <td>0.0</td>\n",
       "      <td>29</td>\n",
       "      <td>34</td>\n",
       "      <td>209</td>\n",
       "      <td>726</td>\n",
       "      <td>1745</td>\n",
       "    </tr>\n",
       "    <tr>\n",
       "      <th>4</th>\n",
       "      <td>1503960366</td>\n",
       "      <td>4/16/2016</td>\n",
       "      <td>12669</td>\n",
       "      <td>8.16</td>\n",
       "      <td>8.16</td>\n",
       "      <td>0.0</td>\n",
       "      <td>2.71</td>\n",
       "      <td>0.41</td>\n",
       "      <td>5.04</td>\n",
       "      <td>0.0</td>\n",
       "      <td>36</td>\n",
       "      <td>10</td>\n",
       "      <td>221</td>\n",
       "      <td>773</td>\n",
       "      <td>1863</td>\n",
       "    </tr>\n",
       "    <tr>\n",
       "      <th>5</th>\n",
       "      <td>1503960366</td>\n",
       "      <td>4/17/2016</td>\n",
       "      <td>9705</td>\n",
       "      <td>6.48</td>\n",
       "      <td>6.48</td>\n",
       "      <td>0.0</td>\n",
       "      <td>3.19</td>\n",
       "      <td>0.78</td>\n",
       "      <td>2.51</td>\n",
       "      <td>0.0</td>\n",
       "      <td>38</td>\n",
       "      <td>20</td>\n",
       "      <td>164</td>\n",
       "      <td>539</td>\n",
       "      <td>1728</td>\n",
       "    </tr>\n",
       "    <tr>\n",
       "      <th>6</th>\n",
       "      <td>1503960366</td>\n",
       "      <td>4/18/2016</td>\n",
       "      <td>13019</td>\n",
       "      <td>8.59</td>\n",
       "      <td>8.59</td>\n",
       "      <td>0.0</td>\n",
       "      <td>3.25</td>\n",
       "      <td>0.64</td>\n",
       "      <td>4.71</td>\n",
       "      <td>0.0</td>\n",
       "      <td>42</td>\n",
       "      <td>16</td>\n",
       "      <td>233</td>\n",
       "      <td>1149</td>\n",
       "      <td>1921</td>\n",
       "    </tr>\n",
       "    <tr>\n",
       "      <th>7</th>\n",
       "      <td>1503960366</td>\n",
       "      <td>4/19/2016</td>\n",
       "      <td>15506</td>\n",
       "      <td>9.88</td>\n",
       "      <td>9.88</td>\n",
       "      <td>0.0</td>\n",
       "      <td>3.53</td>\n",
       "      <td>1.32</td>\n",
       "      <td>5.03</td>\n",
       "      <td>0.0</td>\n",
       "      <td>50</td>\n",
       "      <td>31</td>\n",
       "      <td>264</td>\n",
       "      <td>775</td>\n",
       "      <td>2035</td>\n",
       "    </tr>\n",
       "    <tr>\n",
       "      <th>8</th>\n",
       "      <td>1503960366</td>\n",
       "      <td>4/20/2016</td>\n",
       "      <td>10544</td>\n",
       "      <td>6.68</td>\n",
       "      <td>6.68</td>\n",
       "      <td>0.0</td>\n",
       "      <td>1.96</td>\n",
       "      <td>0.48</td>\n",
       "      <td>4.24</td>\n",
       "      <td>0.0</td>\n",
       "      <td>28</td>\n",
       "      <td>12</td>\n",
       "      <td>205</td>\n",
       "      <td>818</td>\n",
       "      <td>1786</td>\n",
       "    </tr>\n",
       "    <tr>\n",
       "      <th>9</th>\n",
       "      <td>1503960366</td>\n",
       "      <td>4/21/2016</td>\n",
       "      <td>9819</td>\n",
       "      <td>6.34</td>\n",
       "      <td>6.34</td>\n",
       "      <td>0.0</td>\n",
       "      <td>1.34</td>\n",
       "      <td>0.35</td>\n",
       "      <td>4.65</td>\n",
       "      <td>0.0</td>\n",
       "      <td>19</td>\n",
       "      <td>8</td>\n",
       "      <td>211</td>\n",
       "      <td>838</td>\n",
       "      <td>1775</td>\n",
       "    </tr>\n",
       "  </tbody>\n",
       "</table>\n",
       "</div>"
      ],
      "text/plain": [
       "           Id ActivityDate  TotalSteps  TotalDistance  TrackerDistance  \\\n",
       "0  1503960366    4/12/2016       13162           8.50             8.50   \n",
       "1  1503960366    4/13/2016       10735           6.97             6.97   \n",
       "2  1503960366    4/14/2016       10460           6.74             6.74   \n",
       "3  1503960366    4/15/2016        9762           6.28             6.28   \n",
       "4  1503960366    4/16/2016       12669           8.16             8.16   \n",
       "5  1503960366    4/17/2016        9705           6.48             6.48   \n",
       "6  1503960366    4/18/2016       13019           8.59             8.59   \n",
       "7  1503960366    4/19/2016       15506           9.88             9.88   \n",
       "8  1503960366    4/20/2016       10544           6.68             6.68   \n",
       "9  1503960366    4/21/2016        9819           6.34             6.34   \n",
       "\n",
       "   LoggedActivitiesDistance  VeryActiveDistance  ModeratelyActiveDistance  \\\n",
       "0                       0.0                1.88                      0.55   \n",
       "1                       0.0                1.57                      0.69   \n",
       "2                       0.0                2.44                      0.40   \n",
       "3                       0.0                2.14                      1.26   \n",
       "4                       0.0                2.71                      0.41   \n",
       "5                       0.0                3.19                      0.78   \n",
       "6                       0.0                3.25                      0.64   \n",
       "7                       0.0                3.53                      1.32   \n",
       "8                       0.0                1.96                      0.48   \n",
       "9                       0.0                1.34                      0.35   \n",
       "\n",
       "   LightActiveDistance  SedentaryActiveDistance  VeryActiveMinutes  \\\n",
       "0                 6.06                      0.0                 25   \n",
       "1                 4.71                      0.0                 21   \n",
       "2                 3.91                      0.0                 30   \n",
       "3                 2.83                      0.0                 29   \n",
       "4                 5.04                      0.0                 36   \n",
       "5                 2.51                      0.0                 38   \n",
       "6                 4.71                      0.0                 42   \n",
       "7                 5.03                      0.0                 50   \n",
       "8                 4.24                      0.0                 28   \n",
       "9                 4.65                      0.0                 19   \n",
       "\n",
       "   FairlyActiveMinutes  LightlyActiveMinutes  SedentaryMinutes  Calories  \n",
       "0                   13                   328               728      1985  \n",
       "1                   19                   217               776      1797  \n",
       "2                   11                   181              1218      1776  \n",
       "3                   34                   209               726      1745  \n",
       "4                   10                   221               773      1863  \n",
       "5                   20                   164               539      1728  \n",
       "6                   16                   233              1149      1921  \n",
       "7                   31                   264               775      2035  \n",
       "8                   12                   205               818      1786  \n",
       "9                    8                   211               838      1775  "
      ]
     },
     "execution_count": 6,
     "metadata": {},
     "output_type": "execute_result"
    }
   ],
   "source": [
    "df.head(10)"
   ]
  },
  {
   "cell_type": "markdown",
   "id": "96100e83",
   "metadata": {
    "papermill": {
     "duration": 0.011537,
     "end_time": "2024-09-08T13:22:40.696771",
     "exception": false,
     "start_time": "2024-09-08T13:22:40.685234",
     "status": "completed"
    },
    "tags": []
   },
   "source": [
    "## Cleaning data"
   ]
  },
  {
   "cell_type": "markdown",
   "id": "689123c4",
   "metadata": {
    "papermill": {
     "duration": 0.012064,
     "end_time": "2024-09-08T13:22:40.720748",
     "exception": false,
     "start_time": "2024-09-08T13:22:40.708684",
     "status": "completed"
    },
    "tags": []
   },
   "source": [
    "The \"ID\" column has to be a string type and \"ActivityDate\" has to be a data type"
   ]
  },
  {
   "cell_type": "code",
   "execution_count": 7,
   "id": "fc62b52e",
   "metadata": {
    "execution": {
     "iopub.execute_input": "2024-09-08T13:22:40.746341Z",
     "iopub.status.busy": "2024-09-08T13:22:40.745916Z",
     "iopub.status.idle": "2024-09-08T13:22:40.765279Z",
     "shell.execute_reply": "2024-09-08T13:22:40.764292Z"
    },
    "papermill": {
     "duration": 0.034926,
     "end_time": "2024-09-08T13:22:40.767748",
     "exception": false,
     "start_time": "2024-09-08T13:22:40.732822",
     "status": "completed"
    },
    "tags": []
   },
   "outputs": [
    {
     "data": {
      "text/plain": [
       "Id                                  object\n",
       "ActivityDate                datetime64[ns]\n",
       "TotalSteps                           int64\n",
       "TotalDistance                      float64\n",
       "TrackerDistance                    float64\n",
       "LoggedActivitiesDistance           float64\n",
       "VeryActiveDistance                 float64\n",
       "ModeratelyActiveDistance           float64\n",
       "LightActiveDistance                float64\n",
       "SedentaryActiveDistance            float64\n",
       "VeryActiveMinutes                    int64\n",
       "FairlyActiveMinutes                  int64\n",
       "LightlyActiveMinutes                 int64\n",
       "SedentaryMinutes                     int64\n",
       "Calories                             int64\n",
       "dtype: object"
      ]
     },
     "execution_count": 7,
     "metadata": {},
     "output_type": "execute_result"
    }
   ],
   "source": [
    "#changing type\n",
    "df['Id'] = df['Id'].astype(str)\n",
    "df['ActivityDate'] = pd.to_datetime(df['ActivityDate'], format='%m/%d/%Y')\n",
    "df.dtypes"
   ]
  },
  {
   "cell_type": "markdown",
   "id": "66252a71",
   "metadata": {
    "papermill": {
     "duration": 0.011886,
     "end_time": "2024-09-08T13:22:40.792280",
     "exception": false,
     "start_time": "2024-09-08T13:22:40.780394",
     "status": "completed"
    },
    "tags": []
   },
   "source": [
    "To see if we had other values than zero.\n",
    "Obs: Seems like TotalDistance and TrackerDistance columns have the same values. In addition, \"TrackerDistance\" looks like a combination of other columns."
   ]
  },
  {
   "cell_type": "code",
   "execution_count": 8,
   "id": "7c8f664d",
   "metadata": {
    "execution": {
     "iopub.execute_input": "2024-09-08T13:22:40.819318Z",
     "iopub.status.busy": "2024-09-08T13:22:40.818350Z",
     "iopub.status.idle": "2024-09-08T13:22:40.826565Z",
     "shell.execute_reply": "2024-09-08T13:22:40.825453Z"
    },
    "papermill": {
     "duration": 0.024704,
     "end_time": "2024-09-08T13:22:40.829231",
     "exception": false,
     "start_time": "2024-09-08T13:22:40.804527",
     "status": "completed"
    },
    "tags": []
   },
   "outputs": [],
   "source": [
    "df['distance_diff'] = df['TotalDistance'] - df['TrackerDistance']"
   ]
  },
  {
   "cell_type": "code",
   "execution_count": 9,
   "id": "6011910d",
   "metadata": {
    "execution": {
     "iopub.execute_input": "2024-09-08T13:22:40.856455Z",
     "iopub.status.busy": "2024-09-08T13:22:40.856033Z",
     "iopub.status.idle": "2024-09-08T13:22:40.865703Z",
     "shell.execute_reply": "2024-09-08T13:22:40.864547Z"
    },
    "papermill": {
     "duration": 0.026301,
     "end_time": "2024-09-08T13:22:40.868413",
     "exception": false,
     "start_time": "2024-09-08T13:22:40.842112",
     "status": "completed"
    },
    "tags": []
   },
   "outputs": [
    {
     "data": {
      "text/plain": [
       "distance_diff\n",
       "0.000000    925\n",
       "1.830000      1\n",
       "0.190001      1\n",
       "0.040000      1\n",
       "0.810000      1\n",
       "1.049999      1\n",
       "0.760000      1\n",
       "1.070000      1\n",
       "0.980000      1\n",
       "0.900001      1\n",
       "1.140000      1\n",
       "1.160000      1\n",
       "0.880000      1\n",
       "0.460000      1\n",
       "1.160000      1\n",
       "1.060000      1\n",
       "Name: count, dtype: int64"
      ]
     },
     "execution_count": 9,
     "metadata": {},
     "output_type": "execute_result"
    }
   ],
   "source": [
    "df['distance_diff'].value_counts()"
   ]
  },
  {
   "cell_type": "markdown",
   "id": "0dd411ef",
   "metadata": {
    "papermill": {
     "duration": 0.012254,
     "end_time": "2024-09-08T13:22:40.893561",
     "exception": false,
     "start_time": "2024-09-08T13:22:40.881307",
     "status": "completed"
    },
    "tags": []
   },
   "source": [
    "We can see that the columns represent different values."
   ]
  },
  {
   "cell_type": "code",
   "execution_count": 10,
   "id": "491eb85e",
   "metadata": {
    "execution": {
     "iopub.execute_input": "2024-09-08T13:22:40.920773Z",
     "iopub.status.busy": "2024-09-08T13:22:40.920289Z",
     "iopub.status.idle": "2024-09-08T13:22:40.960743Z",
     "shell.execute_reply": "2024-09-08T13:22:40.959751Z"
    },
    "papermill": {
     "duration": 0.057717,
     "end_time": "2024-09-08T13:22:40.963830",
     "exception": false,
     "start_time": "2024-09-08T13:22:40.906113",
     "status": "completed"
    },
    "tags": []
   },
   "outputs": [
    {
     "data": {
      "text/html": [
       "<div>\n",
       "<style scoped>\n",
       "    .dataframe tbody tr th:only-of-type {\n",
       "        vertical-align: middle;\n",
       "    }\n",
       "\n",
       "    .dataframe tbody tr th {\n",
       "        vertical-align: top;\n",
       "    }\n",
       "\n",
       "    .dataframe thead th {\n",
       "        text-align: right;\n",
       "    }\n",
       "</style>\n",
       "<table border=\"1\" class=\"dataframe\">\n",
       "  <thead>\n",
       "    <tr style=\"text-align: right;\">\n",
       "      <th></th>\n",
       "      <th>Id</th>\n",
       "      <th>ActivityDate</th>\n",
       "      <th>TotalSteps</th>\n",
       "      <th>TotalDistance</th>\n",
       "      <th>TrackerDistance</th>\n",
       "      <th>LoggedActivitiesDistance</th>\n",
       "      <th>VeryActiveDistance</th>\n",
       "      <th>ModeratelyActiveDistance</th>\n",
       "      <th>LightActiveDistance</th>\n",
       "      <th>SedentaryActiveDistance</th>\n",
       "      <th>VeryActiveMinutes</th>\n",
       "      <th>FairlyActiveMinutes</th>\n",
       "      <th>LightlyActiveMinutes</th>\n",
       "      <th>SedentaryMinutes</th>\n",
       "      <th>Calories</th>\n",
       "      <th>distance_diff</th>\n",
       "    </tr>\n",
       "  </thead>\n",
       "  <tbody>\n",
       "    <tr>\n",
       "      <th>689</th>\n",
       "      <td>6962181067</td>\n",
       "      <td>2016-04-21</td>\n",
       "      <td>11835</td>\n",
       "      <td>9.71</td>\n",
       "      <td>7.88</td>\n",
       "      <td>4.081692</td>\n",
       "      <td>3.99</td>\n",
       "      <td>2.10</td>\n",
       "      <td>3.51</td>\n",
       "      <td>0.11</td>\n",
       "      <td>53</td>\n",
       "      <td>27</td>\n",
       "      <td>214</td>\n",
       "      <td>708</td>\n",
       "      <td>2179</td>\n",
       "      <td>1.830000</td>\n",
       "    </tr>\n",
       "    <tr>\n",
       "      <th>693</th>\n",
       "      <td>6962181067</td>\n",
       "      <td>2016-04-25</td>\n",
       "      <td>13239</td>\n",
       "      <td>9.27</td>\n",
       "      <td>9.08</td>\n",
       "      <td>2.785175</td>\n",
       "      <td>3.02</td>\n",
       "      <td>1.68</td>\n",
       "      <td>4.46</td>\n",
       "      <td>0.10</td>\n",
       "      <td>35</td>\n",
       "      <td>31</td>\n",
       "      <td>282</td>\n",
       "      <td>637</td>\n",
       "      <td>2194</td>\n",
       "      <td>0.190001</td>\n",
       "    </tr>\n",
       "    <tr>\n",
       "      <th>707</th>\n",
       "      <td>6962181067</td>\n",
       "      <td>2016-05-09</td>\n",
       "      <td>12342</td>\n",
       "      <td>8.72</td>\n",
       "      <td>8.68</td>\n",
       "      <td>3.167822</td>\n",
       "      <td>3.90</td>\n",
       "      <td>1.18</td>\n",
       "      <td>3.65</td>\n",
       "      <td>0.00</td>\n",
       "      <td>43</td>\n",
       "      <td>21</td>\n",
       "      <td>231</td>\n",
       "      <td>607</td>\n",
       "      <td>2105</td>\n",
       "      <td>0.040000</td>\n",
       "    </tr>\n",
       "    <tr>\n",
       "      <th>711</th>\n",
       "      <td>7007744171</td>\n",
       "      <td>2016-04-12</td>\n",
       "      <td>14172</td>\n",
       "      <td>10.29</td>\n",
       "      <td>9.48</td>\n",
       "      <td>4.869783</td>\n",
       "      <td>4.50</td>\n",
       "      <td>0.38</td>\n",
       "      <td>5.41</td>\n",
       "      <td>0.00</td>\n",
       "      <td>53</td>\n",
       "      <td>8</td>\n",
       "      <td>355</td>\n",
       "      <td>1024</td>\n",
       "      <td>2937</td>\n",
       "      <td>0.810000</td>\n",
       "    </tr>\n",
       "    <tr>\n",
       "      <th>712</th>\n",
       "      <td>7007744171</td>\n",
       "      <td>2016-04-13</td>\n",
       "      <td>12862</td>\n",
       "      <td>9.65</td>\n",
       "      <td>8.60</td>\n",
       "      <td>4.851307</td>\n",
       "      <td>4.61</td>\n",
       "      <td>0.56</td>\n",
       "      <td>4.48</td>\n",
       "      <td>0.00</td>\n",
       "      <td>56</td>\n",
       "      <td>22</td>\n",
       "      <td>261</td>\n",
       "      <td>1101</td>\n",
       "      <td>2742</td>\n",
       "      <td>1.049999</td>\n",
       "    </tr>\n",
       "    <tr>\n",
       "      <th>713</th>\n",
       "      <td>7007744171</td>\n",
       "      <td>2016-04-14</td>\n",
       "      <td>11179</td>\n",
       "      <td>8.24</td>\n",
       "      <td>7.48</td>\n",
       "      <td>3.285415</td>\n",
       "      <td>2.95</td>\n",
       "      <td>0.34</td>\n",
       "      <td>4.96</td>\n",
       "      <td>0.00</td>\n",
       "      <td>34</td>\n",
       "      <td>6</td>\n",
       "      <td>304</td>\n",
       "      <td>1096</td>\n",
       "      <td>2668</td>\n",
       "      <td>0.760000</td>\n",
       "    </tr>\n",
       "    <tr>\n",
       "      <th>717</th>\n",
       "      <td>7007744171</td>\n",
       "      <td>2016-04-18</td>\n",
       "      <td>14816</td>\n",
       "      <td>10.98</td>\n",
       "      <td>9.91</td>\n",
       "      <td>4.930550</td>\n",
       "      <td>3.79</td>\n",
       "      <td>2.12</td>\n",
       "      <td>5.05</td>\n",
       "      <td>0.02</td>\n",
       "      <td>48</td>\n",
       "      <td>31</td>\n",
       "      <td>284</td>\n",
       "      <td>1077</td>\n",
       "      <td>2832</td>\n",
       "      <td>1.070000</td>\n",
       "    </tr>\n",
       "    <tr>\n",
       "      <th>718</th>\n",
       "      <td>7007744171</td>\n",
       "      <td>2016-04-19</td>\n",
       "      <td>14194</td>\n",
       "      <td>10.48</td>\n",
       "      <td>9.50</td>\n",
       "      <td>4.942142</td>\n",
       "      <td>4.41</td>\n",
       "      <td>0.76</td>\n",
       "      <td>5.31</td>\n",
       "      <td>0.00</td>\n",
       "      <td>53</td>\n",
       "      <td>17</td>\n",
       "      <td>304</td>\n",
       "      <td>1066</td>\n",
       "      <td>2812</td>\n",
       "      <td>0.980000</td>\n",
       "    </tr>\n",
       "    <tr>\n",
       "      <th>719</th>\n",
       "      <td>7007744171</td>\n",
       "      <td>2016-04-20</td>\n",
       "      <td>15566</td>\n",
       "      <td>11.31</td>\n",
       "      <td>10.41</td>\n",
       "      <td>4.924841</td>\n",
       "      <td>4.79</td>\n",
       "      <td>0.67</td>\n",
       "      <td>5.86</td>\n",
       "      <td>0.00</td>\n",
       "      <td>60</td>\n",
       "      <td>33</td>\n",
       "      <td>347</td>\n",
       "      <td>1000</td>\n",
       "      <td>3096</td>\n",
       "      <td>0.900001</td>\n",
       "    </tr>\n",
       "    <tr>\n",
       "      <th>724</th>\n",
       "      <td>7007744171</td>\n",
       "      <td>2016-04-25</td>\n",
       "      <td>18229</td>\n",
       "      <td>13.34</td>\n",
       "      <td>12.20</td>\n",
       "      <td>4.861792</td>\n",
       "      <td>4.31</td>\n",
       "      <td>1.37</td>\n",
       "      <td>7.67</td>\n",
       "      <td>0.00</td>\n",
       "      <td>51</td>\n",
       "      <td>24</td>\n",
       "      <td>379</td>\n",
       "      <td>986</td>\n",
       "      <td>3055</td>\n",
       "      <td>1.140000</td>\n",
       "    </tr>\n",
       "    <tr>\n",
       "      <th>726</th>\n",
       "      <td>7007744171</td>\n",
       "      <td>2016-04-27</td>\n",
       "      <td>13541</td>\n",
       "      <td>10.22</td>\n",
       "      <td>9.06</td>\n",
       "      <td>4.885605</td>\n",
       "      <td>4.27</td>\n",
       "      <td>0.66</td>\n",
       "      <td>5.29</td>\n",
       "      <td>0.00</td>\n",
       "      <td>50</td>\n",
       "      <td>12</td>\n",
       "      <td>337</td>\n",
       "      <td>1041</td>\n",
       "      <td>2830</td>\n",
       "      <td>1.160000</td>\n",
       "    </tr>\n",
       "    <tr>\n",
       "      <th>728</th>\n",
       "      <td>7007744171</td>\n",
       "      <td>2016-04-29</td>\n",
       "      <td>20067</td>\n",
       "      <td>14.30</td>\n",
       "      <td>13.42</td>\n",
       "      <td>4.911146</td>\n",
       "      <td>4.31</td>\n",
       "      <td>2.05</td>\n",
       "      <td>7.95</td>\n",
       "      <td>0.00</td>\n",
       "      <td>55</td>\n",
       "      <td>42</td>\n",
       "      <td>382</td>\n",
       "      <td>961</td>\n",
       "      <td>3180</td>\n",
       "      <td>0.880000</td>\n",
       "    </tr>\n",
       "    <tr>\n",
       "      <th>731</th>\n",
       "      <td>7007744171</td>\n",
       "      <td>2016-05-02</td>\n",
       "      <td>13041</td>\n",
       "      <td>9.18</td>\n",
       "      <td>8.72</td>\n",
       "      <td>2.832326</td>\n",
       "      <td>4.64</td>\n",
       "      <td>0.70</td>\n",
       "      <td>3.83</td>\n",
       "      <td>0.00</td>\n",
       "      <td>64</td>\n",
       "      <td>14</td>\n",
       "      <td>250</td>\n",
       "      <td>1112</td>\n",
       "      <td>2642</td>\n",
       "      <td>0.460000</td>\n",
       "    </tr>\n",
       "    <tr>\n",
       "      <th>732</th>\n",
       "      <td>7007744171</td>\n",
       "      <td>2016-05-03</td>\n",
       "      <td>14510</td>\n",
       "      <td>10.87</td>\n",
       "      <td>9.71</td>\n",
       "      <td>4.912368</td>\n",
       "      <td>4.48</td>\n",
       "      <td>1.02</td>\n",
       "      <td>5.36</td>\n",
       "      <td>0.00</td>\n",
       "      <td>58</td>\n",
       "      <td>31</td>\n",
       "      <td>330</td>\n",
       "      <td>1021</td>\n",
       "      <td>2976</td>\n",
       "      <td>1.160000</td>\n",
       "    </tr>\n",
       "    <tr>\n",
       "      <th>734</th>\n",
       "      <td>7007744171</td>\n",
       "      <td>2016-05-05</td>\n",
       "      <td>15010</td>\n",
       "      <td>11.10</td>\n",
       "      <td>10.04</td>\n",
       "      <td>4.878232</td>\n",
       "      <td>4.33</td>\n",
       "      <td>1.29</td>\n",
       "      <td>5.48</td>\n",
       "      <td>0.00</td>\n",
       "      <td>53</td>\n",
       "      <td>23</td>\n",
       "      <td>317</td>\n",
       "      <td>1047</td>\n",
       "      <td>2933</td>\n",
       "      <td>1.060000</td>\n",
       "    </tr>\n",
       "  </tbody>\n",
       "</table>\n",
       "</div>"
      ],
      "text/plain": [
       "             Id ActivityDate  TotalSteps  TotalDistance  TrackerDistance  \\\n",
       "689  6962181067   2016-04-21       11835           9.71             7.88   \n",
       "693  6962181067   2016-04-25       13239           9.27             9.08   \n",
       "707  6962181067   2016-05-09       12342           8.72             8.68   \n",
       "711  7007744171   2016-04-12       14172          10.29             9.48   \n",
       "712  7007744171   2016-04-13       12862           9.65             8.60   \n",
       "713  7007744171   2016-04-14       11179           8.24             7.48   \n",
       "717  7007744171   2016-04-18       14816          10.98             9.91   \n",
       "718  7007744171   2016-04-19       14194          10.48             9.50   \n",
       "719  7007744171   2016-04-20       15566          11.31            10.41   \n",
       "724  7007744171   2016-04-25       18229          13.34            12.20   \n",
       "726  7007744171   2016-04-27       13541          10.22             9.06   \n",
       "728  7007744171   2016-04-29       20067          14.30            13.42   \n",
       "731  7007744171   2016-05-02       13041           9.18             8.72   \n",
       "732  7007744171   2016-05-03       14510          10.87             9.71   \n",
       "734  7007744171   2016-05-05       15010          11.10            10.04   \n",
       "\n",
       "     LoggedActivitiesDistance  VeryActiveDistance  ModeratelyActiveDistance  \\\n",
       "689                  4.081692                3.99                      2.10   \n",
       "693                  2.785175                3.02                      1.68   \n",
       "707                  3.167822                3.90                      1.18   \n",
       "711                  4.869783                4.50                      0.38   \n",
       "712                  4.851307                4.61                      0.56   \n",
       "713                  3.285415                2.95                      0.34   \n",
       "717                  4.930550                3.79                      2.12   \n",
       "718                  4.942142                4.41                      0.76   \n",
       "719                  4.924841                4.79                      0.67   \n",
       "724                  4.861792                4.31                      1.37   \n",
       "726                  4.885605                4.27                      0.66   \n",
       "728                  4.911146                4.31                      2.05   \n",
       "731                  2.832326                4.64                      0.70   \n",
       "732                  4.912368                4.48                      1.02   \n",
       "734                  4.878232                4.33                      1.29   \n",
       "\n",
       "     LightActiveDistance  SedentaryActiveDistance  VeryActiveMinutes  \\\n",
       "689                 3.51                     0.11                 53   \n",
       "693                 4.46                     0.10                 35   \n",
       "707                 3.65                     0.00                 43   \n",
       "711                 5.41                     0.00                 53   \n",
       "712                 4.48                     0.00                 56   \n",
       "713                 4.96                     0.00                 34   \n",
       "717                 5.05                     0.02                 48   \n",
       "718                 5.31                     0.00                 53   \n",
       "719                 5.86                     0.00                 60   \n",
       "724                 7.67                     0.00                 51   \n",
       "726                 5.29                     0.00                 50   \n",
       "728                 7.95                     0.00                 55   \n",
       "731                 3.83                     0.00                 64   \n",
       "732                 5.36                     0.00                 58   \n",
       "734                 5.48                     0.00                 53   \n",
       "\n",
       "     FairlyActiveMinutes  LightlyActiveMinutes  SedentaryMinutes  Calories  \\\n",
       "689                   27                   214               708      2179   \n",
       "693                   31                   282               637      2194   \n",
       "707                   21                   231               607      2105   \n",
       "711                    8                   355              1024      2937   \n",
       "712                   22                   261              1101      2742   \n",
       "713                    6                   304              1096      2668   \n",
       "717                   31                   284              1077      2832   \n",
       "718                   17                   304              1066      2812   \n",
       "719                   33                   347              1000      3096   \n",
       "724                   24                   379               986      3055   \n",
       "726                   12                   337              1041      2830   \n",
       "728                   42                   382               961      3180   \n",
       "731                   14                   250              1112      2642   \n",
       "732                   31                   330              1021      2976   \n",
       "734                   23                   317              1047      2933   \n",
       "\n",
       "     distance_diff  \n",
       "689       1.830000  \n",
       "693       0.190001  \n",
       "707       0.040000  \n",
       "711       0.810000  \n",
       "712       1.049999  \n",
       "713       0.760000  \n",
       "717       1.070000  \n",
       "718       0.980000  \n",
       "719       0.900001  \n",
       "724       1.140000  \n",
       "726       1.160000  \n",
       "728       0.880000  \n",
       "731       0.460000  \n",
       "732       1.160000  \n",
       "734       1.060000  "
      ]
     },
     "execution_count": 10,
     "metadata": {},
     "output_type": "execute_result"
    }
   ],
   "source": [
    "df.query('distance_diff > 0.0')"
   ]
  },
  {
   "cell_type": "code",
   "execution_count": 11,
   "id": "a153779a",
   "metadata": {
    "execution": {
     "iopub.execute_input": "2024-09-08T13:22:40.991592Z",
     "iopub.status.busy": "2024-09-08T13:22:40.991186Z",
     "iopub.status.idle": "2024-09-08T13:22:41.000155Z",
     "shell.execute_reply": "2024-09-08T13:22:40.998893Z"
    },
    "papermill": {
     "duration": 0.025877,
     "end_time": "2024-09-08T13:22:41.002763",
     "exception": false,
     "start_time": "2024-09-08T13:22:40.976886",
     "status": "completed"
    },
    "tags": []
   },
   "outputs": [
    {
     "data": {
      "text/plain": [
       "Index(['id', 'activitydate', 'totalsteps', 'totaldistance', 'trackerdistance',\n",
       "       'loggedactivitiesdistance', 'veryactivedistance',\n",
       "       'moderatelyactivedistance', 'lightactivedistance',\n",
       "       'sedentaryactivedistance', 'veryactiveminutes', 'fairlyactiveminutes',\n",
       "       'lightlyactiveminutes', 'sedentaryminutes', 'calories',\n",
       "       'distance_diff'],\n",
       "      dtype='object')"
      ]
     },
     "execution_count": 11,
     "metadata": {},
     "output_type": "execute_result"
    }
   ],
   "source": [
    "df.columns = df.columns.str.lower()\n",
    "df.columns"
   ]
  },
  {
   "cell_type": "code",
   "execution_count": 12,
   "id": "5baa47d4",
   "metadata": {
    "execution": {
     "iopub.execute_input": "2024-09-08T13:22:41.031303Z",
     "iopub.status.busy": "2024-09-08T13:22:41.030266Z",
     "iopub.status.idle": "2024-09-08T13:22:41.040800Z",
     "shell.execute_reply": "2024-09-08T13:22:41.039709Z"
    },
    "papermill": {
     "duration": 0.027411,
     "end_time": "2024-09-08T13:22:41.043395",
     "exception": false,
     "start_time": "2024-09-08T13:22:41.015984",
     "status": "completed"
    },
    "tags": []
   },
   "outputs": [
    {
     "data": {
      "text/plain": [
       "Index(['id', 'activity_date', 'total_steps', 'total_distance',\n",
       "       'tracker_distance', 'logged_activities_distance',\n",
       "       'very_active_distance', 'moderately_active_distance',\n",
       "       'light_active_distance', 'sedentary_active_distance',\n",
       "       'very_active_minutes', 'fairly_active_minutes',\n",
       "       'lightly_active_minutes', 'sedentary_minutes', 'calories',\n",
       "       'distance_diff'],\n",
       "      dtype='object')"
      ]
     },
     "execution_count": 12,
     "metadata": {},
     "output_type": "execute_result"
    }
   ],
   "source": [
    "df.rename(columns = {'activitydate':'activity_date', 'totalsteps':'total_steps', 'totaldistance':'total_distance', 'trackerdistance':'tracker_distance','loggedactivitiesdistance':'logged_activities_distance', 'veryactivedistance': 'very_active_distance',\n",
    "       'moderatelyactivedistance':'moderately_active_distance', 'lightactivedistance':'light_active_distance','sedentaryactivedistance':'sedentary_active_distance', 'veryactiveminutes': 'very_active_minutes', 'fairlyactiveminutes': 'fairly_active_minutes',\n",
    "       'lightlyactiveminutes':'lightly_active_minutes', 'sedentaryminutes':'sedentary_minutes'}, inplace = True)\n",
    "\n",
    "df.columns"
   ]
  },
  {
   "cell_type": "code",
   "execution_count": 13,
   "id": "06a79dc3",
   "metadata": {
    "execution": {
     "iopub.execute_input": "2024-09-08T13:22:41.072604Z",
     "iopub.status.busy": "2024-09-08T13:22:41.071624Z",
     "iopub.status.idle": "2024-09-08T13:22:41.081547Z",
     "shell.execute_reply": "2024-09-08T13:22:41.080416Z"
    },
    "papermill": {
     "duration": 0.027006,
     "end_time": "2024-09-08T13:22:41.084074",
     "exception": false,
     "start_time": "2024-09-08T13:22:41.057068",
     "status": "completed"
    },
    "tags": []
   },
   "outputs": [],
   "source": [
    "# creat columns\n",
    "day_of_week = df['activity_date'].dt.day_name()\n",
    "df['day_of_week'] = day_of_week\n",
    "\n",
    "df['n_day_of_week'] = df['activity_date'].dt.weekday # 0= monday / 6 = sunday"
   ]
  },
  {
   "cell_type": "code",
   "execution_count": 14,
   "id": "ab3e6968",
   "metadata": {
    "execution": {
     "iopub.execute_input": "2024-09-08T13:22:41.116777Z",
     "iopub.status.busy": "2024-09-08T13:22:41.115336Z",
     "iopub.status.idle": "2024-09-08T13:22:41.149890Z",
     "shell.execute_reply": "2024-09-08T13:22:41.148681Z"
    },
    "papermill": {
     "duration": 0.05438,
     "end_time": "2024-09-08T13:22:41.153182",
     "exception": false,
     "start_time": "2024-09-08T13:22:41.098802",
     "status": "completed"
    },
    "tags": []
   },
   "outputs": [
    {
     "data": {
      "text/html": [
       "<div>\n",
       "<style scoped>\n",
       "    .dataframe tbody tr th:only-of-type {\n",
       "        vertical-align: middle;\n",
       "    }\n",
       "\n",
       "    .dataframe tbody tr th {\n",
       "        vertical-align: top;\n",
       "    }\n",
       "\n",
       "    .dataframe thead th {\n",
       "        text-align: right;\n",
       "    }\n",
       "</style>\n",
       "<table border=\"1\" class=\"dataframe\">\n",
       "  <thead>\n",
       "    <tr style=\"text-align: right;\">\n",
       "      <th></th>\n",
       "      <th>id</th>\n",
       "      <th>activity_date</th>\n",
       "      <th>total_steps</th>\n",
       "      <th>total_distance</th>\n",
       "      <th>tracker_distance</th>\n",
       "      <th>logged_activities_distance</th>\n",
       "      <th>very_active_distance</th>\n",
       "      <th>moderately_active_distance</th>\n",
       "      <th>light_active_distance</th>\n",
       "      <th>sedentary_active_distance</th>\n",
       "      <th>very_active_minutes</th>\n",
       "      <th>fairly_active_minutes</th>\n",
       "      <th>lightly_active_minutes</th>\n",
       "      <th>sedentary_minutes</th>\n",
       "      <th>calories</th>\n",
       "      <th>distance_diff</th>\n",
       "      <th>day_of_week</th>\n",
       "      <th>n_day_of_week</th>\n",
       "    </tr>\n",
       "  </thead>\n",
       "  <tbody>\n",
       "    <tr>\n",
       "      <th>0</th>\n",
       "      <td>1503960366</td>\n",
       "      <td>2016-04-12</td>\n",
       "      <td>13162</td>\n",
       "      <td>8.50</td>\n",
       "      <td>8.50</td>\n",
       "      <td>0.0</td>\n",
       "      <td>1.88</td>\n",
       "      <td>0.55</td>\n",
       "      <td>6.06</td>\n",
       "      <td>0.0</td>\n",
       "      <td>25</td>\n",
       "      <td>13</td>\n",
       "      <td>328</td>\n",
       "      <td>728</td>\n",
       "      <td>1985</td>\n",
       "      <td>0.0</td>\n",
       "      <td>Tuesday</td>\n",
       "      <td>1</td>\n",
       "    </tr>\n",
       "    <tr>\n",
       "      <th>1</th>\n",
       "      <td>1503960366</td>\n",
       "      <td>2016-04-13</td>\n",
       "      <td>10735</td>\n",
       "      <td>6.97</td>\n",
       "      <td>6.97</td>\n",
       "      <td>0.0</td>\n",
       "      <td>1.57</td>\n",
       "      <td>0.69</td>\n",
       "      <td>4.71</td>\n",
       "      <td>0.0</td>\n",
       "      <td>21</td>\n",
       "      <td>19</td>\n",
       "      <td>217</td>\n",
       "      <td>776</td>\n",
       "      <td>1797</td>\n",
       "      <td>0.0</td>\n",
       "      <td>Wednesday</td>\n",
       "      <td>2</td>\n",
       "    </tr>\n",
       "    <tr>\n",
       "      <th>2</th>\n",
       "      <td>1503960366</td>\n",
       "      <td>2016-04-14</td>\n",
       "      <td>10460</td>\n",
       "      <td>6.74</td>\n",
       "      <td>6.74</td>\n",
       "      <td>0.0</td>\n",
       "      <td>2.44</td>\n",
       "      <td>0.40</td>\n",
       "      <td>3.91</td>\n",
       "      <td>0.0</td>\n",
       "      <td>30</td>\n",
       "      <td>11</td>\n",
       "      <td>181</td>\n",
       "      <td>1218</td>\n",
       "      <td>1776</td>\n",
       "      <td>0.0</td>\n",
       "      <td>Thursday</td>\n",
       "      <td>3</td>\n",
       "    </tr>\n",
       "    <tr>\n",
       "      <th>3</th>\n",
       "      <td>1503960366</td>\n",
       "      <td>2016-04-15</td>\n",
       "      <td>9762</td>\n",
       "      <td>6.28</td>\n",
       "      <td>6.28</td>\n",
       "      <td>0.0</td>\n",
       "      <td>2.14</td>\n",
       "      <td>1.26</td>\n",
       "      <td>2.83</td>\n",
       "      <td>0.0</td>\n",
       "      <td>29</td>\n",
       "      <td>34</td>\n",
       "      <td>209</td>\n",
       "      <td>726</td>\n",
       "      <td>1745</td>\n",
       "      <td>0.0</td>\n",
       "      <td>Friday</td>\n",
       "      <td>4</td>\n",
       "    </tr>\n",
       "  </tbody>\n",
       "</table>\n",
       "</div>"
      ],
      "text/plain": [
       "           id activity_date  total_steps  total_distance  tracker_distance  \\\n",
       "0  1503960366    2016-04-12        13162            8.50              8.50   \n",
       "1  1503960366    2016-04-13        10735            6.97              6.97   \n",
       "2  1503960366    2016-04-14        10460            6.74              6.74   \n",
       "3  1503960366    2016-04-15         9762            6.28              6.28   \n",
       "\n",
       "   logged_activities_distance  very_active_distance  \\\n",
       "0                         0.0                  1.88   \n",
       "1                         0.0                  1.57   \n",
       "2                         0.0                  2.44   \n",
       "3                         0.0                  2.14   \n",
       "\n",
       "   moderately_active_distance  light_active_distance  \\\n",
       "0                        0.55                   6.06   \n",
       "1                        0.69                   4.71   \n",
       "2                        0.40                   3.91   \n",
       "3                        1.26                   2.83   \n",
       "\n",
       "   sedentary_active_distance  very_active_minutes  fairly_active_minutes  \\\n",
       "0                        0.0                   25                     13   \n",
       "1                        0.0                   21                     19   \n",
       "2                        0.0                   30                     11   \n",
       "3                        0.0                   29                     34   \n",
       "\n",
       "   lightly_active_minutes  sedentary_minutes  calories  distance_diff  \\\n",
       "0                     328                728      1985            0.0   \n",
       "1                     217                776      1797            0.0   \n",
       "2                     181               1218      1776            0.0   \n",
       "3                     209                726      1745            0.0   \n",
       "\n",
       "  day_of_week  n_day_of_week  \n",
       "0     Tuesday              1  \n",
       "1   Wednesday              2  \n",
       "2    Thursday              3  \n",
       "3      Friday              4  "
      ]
     },
     "execution_count": 14,
     "metadata": {},
     "output_type": "execute_result"
    }
   ],
   "source": [
    "df.head(4)"
   ]
  },
  {
   "cell_type": "code",
   "execution_count": 15,
   "id": "52d7da4b",
   "metadata": {
    "execution": {
     "iopub.execute_input": "2024-09-08T13:22:41.186299Z",
     "iopub.status.busy": "2024-09-08T13:22:41.185938Z",
     "iopub.status.idle": "2024-09-08T13:22:41.195777Z",
     "shell.execute_reply": "2024-09-08T13:22:41.194660Z"
    },
    "papermill": {
     "duration": 0.027714,
     "end_time": "2024-09-08T13:22:41.198255",
     "exception": false,
     "start_time": "2024-09-08T13:22:41.170541",
     "status": "completed"
    },
    "tags": []
   },
   "outputs": [
    {
     "data": {
      "text/plain": [
       "id                            0\n",
       "activity_date                 0\n",
       "total_steps                   0\n",
       "total_distance                0\n",
       "tracker_distance              0\n",
       "logged_activities_distance    0\n",
       "very_active_distance          0\n",
       "moderately_active_distance    0\n",
       "light_active_distance         0\n",
       "sedentary_active_distance     0\n",
       "very_active_minutes           0\n",
       "fairly_active_minutes         0\n",
       "lightly_active_minutes        0\n",
       "sedentary_minutes             0\n",
       "calories                      0\n",
       "distance_diff                 0\n",
       "day_of_week                   0\n",
       "n_day_of_week                 0\n",
       "dtype: int64"
      ]
     },
     "execution_count": 15,
     "metadata": {},
     "output_type": "execute_result"
    }
   ],
   "source": [
    "#cheking null values\n",
    "df.isna().sum()"
   ]
  },
  {
   "cell_type": "code",
   "execution_count": 16,
   "id": "87546542",
   "metadata": {
    "execution": {
     "iopub.execute_input": "2024-09-08T13:22:41.235396Z",
     "iopub.status.busy": "2024-09-08T13:22:41.234812Z",
     "iopub.status.idle": "2024-09-08T13:22:41.251933Z",
     "shell.execute_reply": "2024-09-08T13:22:41.250400Z"
    },
    "papermill": {
     "duration": 0.038635,
     "end_time": "2024-09-08T13:22:41.254802",
     "exception": false,
     "start_time": "2024-09-08T13:22:41.216167",
     "status": "completed"
    },
    "tags": []
   },
   "outputs": [
    {
     "data": {
      "text/plain": [
       "0"
      ]
     },
     "execution_count": 16,
     "metadata": {},
     "output_type": "execute_result"
    }
   ],
   "source": [
    "#cheking duplicates\n",
    "df.duplicated().sum() #by roll"
   ]
  },
  {
   "cell_type": "code",
   "execution_count": 17,
   "id": "71751d40",
   "metadata": {
    "execution": {
     "iopub.execute_input": "2024-09-08T13:22:41.294773Z",
     "iopub.status.busy": "2024-09-08T13:22:41.294332Z",
     "iopub.status.idle": "2024-09-08T13:22:41.301617Z",
     "shell.execute_reply": "2024-09-08T13:22:41.300562Z"
    },
    "papermill": {
     "duration": 0.030478,
     "end_time": "2024-09-08T13:22:41.304127",
     "exception": false,
     "start_time": "2024-09-08T13:22:41.273649",
     "status": "completed"
    },
    "tags": []
   },
   "outputs": [],
   "source": [
    "#subset data\n",
    "df = df[['id', 'activity_date', 'total_steps', 'total_distance',\n",
    "       #'tracker_distance', 'logged_activities_distance',\n",
    "       #'very_active_distance', 'moderately_active_distance',\n",
    "       #'light_active_distance', 'sedentary_active_distance',\n",
    "       'very_active_minutes', 'fairly_active_minutes',\n",
    "       'lightly_active_minutes', 'sedentary_minutes', 'calories']].copy()\n"
   ]
  },
  {
   "cell_type": "code",
   "execution_count": 18,
   "id": "2981c1de",
   "metadata": {
    "execution": {
     "iopub.execute_input": "2024-09-08T13:22:41.395087Z",
     "iopub.status.busy": "2024-09-08T13:22:41.394685Z",
     "iopub.status.idle": "2024-09-08T13:22:41.409510Z",
     "shell.execute_reply": "2024-09-08T13:22:41.408364Z"
    },
    "papermill": {
     "duration": 0.032553,
     "end_time": "2024-09-08T13:22:41.411823",
     "exception": false,
     "start_time": "2024-09-08T13:22:41.379270",
     "status": "completed"
    },
    "tags": []
   },
   "outputs": [
    {
     "data": {
      "text/html": [
       "<div>\n",
       "<style scoped>\n",
       "    .dataframe tbody tr th:only-of-type {\n",
       "        vertical-align: middle;\n",
       "    }\n",
       "\n",
       "    .dataframe tbody tr th {\n",
       "        vertical-align: top;\n",
       "    }\n",
       "\n",
       "    .dataframe thead th {\n",
       "        text-align: right;\n",
       "    }\n",
       "</style>\n",
       "<table border=\"1\" class=\"dataframe\">\n",
       "  <thead>\n",
       "    <tr style=\"text-align: right;\">\n",
       "      <th></th>\n",
       "      <th>id</th>\n",
       "      <th>activity_date</th>\n",
       "      <th>total_steps</th>\n",
       "      <th>total_distance</th>\n",
       "      <th>very_active_minutes</th>\n",
       "      <th>fairly_active_minutes</th>\n",
       "      <th>lightly_active_minutes</th>\n",
       "      <th>sedentary_minutes</th>\n",
       "      <th>calories</th>\n",
       "    </tr>\n",
       "  </thead>\n",
       "  <tbody>\n",
       "    <tr>\n",
       "      <th>0</th>\n",
       "      <td>1503960366</td>\n",
       "      <td>2016-04-12</td>\n",
       "      <td>13162</td>\n",
       "      <td>8.50</td>\n",
       "      <td>25</td>\n",
       "      <td>13</td>\n",
       "      <td>328</td>\n",
       "      <td>728</td>\n",
       "      <td>1985</td>\n",
       "    </tr>\n",
       "    <tr>\n",
       "      <th>1</th>\n",
       "      <td>1503960366</td>\n",
       "      <td>2016-04-13</td>\n",
       "      <td>10735</td>\n",
       "      <td>6.97</td>\n",
       "      <td>21</td>\n",
       "      <td>19</td>\n",
       "      <td>217</td>\n",
       "      <td>776</td>\n",
       "      <td>1797</td>\n",
       "    </tr>\n",
       "    <tr>\n",
       "      <th>2</th>\n",
       "      <td>1503960366</td>\n",
       "      <td>2016-04-14</td>\n",
       "      <td>10460</td>\n",
       "      <td>6.74</td>\n",
       "      <td>30</td>\n",
       "      <td>11</td>\n",
       "      <td>181</td>\n",
       "      <td>1218</td>\n",
       "      <td>1776</td>\n",
       "    </tr>\n",
       "    <tr>\n",
       "      <th>3</th>\n",
       "      <td>1503960366</td>\n",
       "      <td>2016-04-15</td>\n",
       "      <td>9762</td>\n",
       "      <td>6.28</td>\n",
       "      <td>29</td>\n",
       "      <td>34</td>\n",
       "      <td>209</td>\n",
       "      <td>726</td>\n",
       "      <td>1745</td>\n",
       "    </tr>\n",
       "  </tbody>\n",
       "</table>\n",
       "</div>"
      ],
      "text/plain": [
       "           id activity_date  total_steps  total_distance  very_active_minutes  \\\n",
       "0  1503960366    2016-04-12        13162            8.50                   25   \n",
       "1  1503960366    2016-04-13        10735            6.97                   21   \n",
       "2  1503960366    2016-04-14        10460            6.74                   30   \n",
       "3  1503960366    2016-04-15         9762            6.28                   29   \n",
       "\n",
       "   fairly_active_minutes  lightly_active_minutes  sedentary_minutes  calories  \n",
       "0                     13                     328                728      1985  \n",
       "1                     19                     217                776      1797  \n",
       "2                     11                     181               1218      1776  \n",
       "3                     34                     209                726      1745  "
      ]
     },
     "execution_count": 18,
     "metadata": {},
     "output_type": "execute_result"
    }
   ],
   "source": [
    "df.head(4)"
   ]
  },
  {
   "cell_type": "markdown",
   "id": "68211a12",
   "metadata": {
    "papermill": {
     "duration": 0.014073,
     "end_time": "2024-09-08T13:22:41.440402",
     "exception": false,
     "start_time": "2024-09-08T13:22:41.426329",
     "status": "completed"
    },
    "tags": []
   },
   "source": [
    "## Analysis"
   ]
  },
  {
   "cell_type": "markdown",
   "id": "e61e2f40",
   "metadata": {
    "papermill": {
     "duration": 0.013896,
     "end_time": "2024-09-08T13:22:41.468525",
     "exception": false,
     "start_time": "2024-09-08T13:22:41.454629",
     "status": "completed"
    },
    "tags": []
   },
   "source": [
    "The “distance” columns don't specify the unit of measurement (km, m, miles, etc.) so they won't be used. In addition, the “total_steps” column is correlated to “total_distance” (the greater the steps, the greater the distance) which gives a sense of distance."
   ]
  },
  {
   "cell_type": "markdown",
   "id": "ac2a5cd8",
   "metadata": {
    "papermill": {
     "duration": 0.014066,
     "end_time": "2024-09-08T13:22:41.496901",
     "exception": false,
     "start_time": "2024-09-08T13:22:41.482835",
     "status": "completed"
    },
    "tags": []
   },
   "source": [
    "Objetive:\n",
    "\n",
    "Understand the participants' physical activity patterns"
   ]
  },
  {
   "cell_type": "code",
   "execution_count": 19,
   "id": "4e9ad47d",
   "metadata": {
    "execution": {
     "iopub.execute_input": "2024-09-08T13:22:41.527878Z",
     "iopub.status.busy": "2024-09-08T13:22:41.527510Z",
     "iopub.status.idle": "2024-09-08T13:22:41.570547Z",
     "shell.execute_reply": "2024-09-08T13:22:41.569288Z"
    },
    "papermill": {
     "duration": 0.061405,
     "end_time": "2024-09-08T13:22:41.573159",
     "exception": false,
     "start_time": "2024-09-08T13:22:41.511754",
     "status": "completed"
    },
    "tags": []
   },
   "outputs": [
    {
     "data": {
      "text/html": [
       "<div>\n",
       "<style scoped>\n",
       "    .dataframe tbody tr th:only-of-type {\n",
       "        vertical-align: middle;\n",
       "    }\n",
       "\n",
       "    .dataframe tbody tr th {\n",
       "        vertical-align: top;\n",
       "    }\n",
       "\n",
       "    .dataframe thead th {\n",
       "        text-align: right;\n",
       "    }\n",
       "</style>\n",
       "<table border=\"1\" class=\"dataframe\">\n",
       "  <thead>\n",
       "    <tr style=\"text-align: right;\">\n",
       "      <th></th>\n",
       "      <th>activity_date</th>\n",
       "      <th>total_steps</th>\n",
       "      <th>total_distance</th>\n",
       "      <th>very_active_minutes</th>\n",
       "      <th>fairly_active_minutes</th>\n",
       "      <th>lightly_active_minutes</th>\n",
       "      <th>sedentary_minutes</th>\n",
       "      <th>calories</th>\n",
       "    </tr>\n",
       "  </thead>\n",
       "  <tbody>\n",
       "    <tr>\n",
       "      <th>count</th>\n",
       "      <td>940</td>\n",
       "      <td>940.000000</td>\n",
       "      <td>940.000000</td>\n",
       "      <td>940.000000</td>\n",
       "      <td>940.000000</td>\n",
       "      <td>940.000000</td>\n",
       "      <td>940.000000</td>\n",
       "      <td>940.000000</td>\n",
       "    </tr>\n",
       "    <tr>\n",
       "      <th>mean</th>\n",
       "      <td>2016-04-26 06:53:37.021276672</td>\n",
       "      <td>7637.910638</td>\n",
       "      <td>5.489702</td>\n",
       "      <td>21.164894</td>\n",
       "      <td>13.564894</td>\n",
       "      <td>192.812766</td>\n",
       "      <td>991.210638</td>\n",
       "      <td>2303.609574</td>\n",
       "    </tr>\n",
       "    <tr>\n",
       "      <th>min</th>\n",
       "      <td>2016-04-12 00:00:00</td>\n",
       "      <td>0.000000</td>\n",
       "      <td>0.000000</td>\n",
       "      <td>0.000000</td>\n",
       "      <td>0.000000</td>\n",
       "      <td>0.000000</td>\n",
       "      <td>0.000000</td>\n",
       "      <td>0.000000</td>\n",
       "    </tr>\n",
       "    <tr>\n",
       "      <th>25%</th>\n",
       "      <td>2016-04-19 00:00:00</td>\n",
       "      <td>3789.750000</td>\n",
       "      <td>2.620000</td>\n",
       "      <td>0.000000</td>\n",
       "      <td>0.000000</td>\n",
       "      <td>127.000000</td>\n",
       "      <td>729.750000</td>\n",
       "      <td>1828.500000</td>\n",
       "    </tr>\n",
       "    <tr>\n",
       "      <th>50%</th>\n",
       "      <td>2016-04-26 00:00:00</td>\n",
       "      <td>7405.500000</td>\n",
       "      <td>5.245000</td>\n",
       "      <td>4.000000</td>\n",
       "      <td>6.000000</td>\n",
       "      <td>199.000000</td>\n",
       "      <td>1057.500000</td>\n",
       "      <td>2134.000000</td>\n",
       "    </tr>\n",
       "    <tr>\n",
       "      <th>75%</th>\n",
       "      <td>2016-05-04 00:00:00</td>\n",
       "      <td>10727.000000</td>\n",
       "      <td>7.712500</td>\n",
       "      <td>32.000000</td>\n",
       "      <td>19.000000</td>\n",
       "      <td>264.000000</td>\n",
       "      <td>1229.500000</td>\n",
       "      <td>2793.250000</td>\n",
       "    </tr>\n",
       "    <tr>\n",
       "      <th>max</th>\n",
       "      <td>2016-05-12 00:00:00</td>\n",
       "      <td>36019.000000</td>\n",
       "      <td>28.030001</td>\n",
       "      <td>210.000000</td>\n",
       "      <td>143.000000</td>\n",
       "      <td>518.000000</td>\n",
       "      <td>1440.000000</td>\n",
       "      <td>4900.000000</td>\n",
       "    </tr>\n",
       "    <tr>\n",
       "      <th>std</th>\n",
       "      <td>NaN</td>\n",
       "      <td>5087.150742</td>\n",
       "      <td>3.924606</td>\n",
       "      <td>32.844803</td>\n",
       "      <td>19.987404</td>\n",
       "      <td>109.174700</td>\n",
       "      <td>301.267437</td>\n",
       "      <td>718.166862</td>\n",
       "    </tr>\n",
       "  </tbody>\n",
       "</table>\n",
       "</div>"
      ],
      "text/plain": [
       "                       activity_date   total_steps  total_distance  \\\n",
       "count                            940    940.000000      940.000000   \n",
       "mean   2016-04-26 06:53:37.021276672   7637.910638        5.489702   \n",
       "min              2016-04-12 00:00:00      0.000000        0.000000   \n",
       "25%              2016-04-19 00:00:00   3789.750000        2.620000   \n",
       "50%              2016-04-26 00:00:00   7405.500000        5.245000   \n",
       "75%              2016-05-04 00:00:00  10727.000000        7.712500   \n",
       "max              2016-05-12 00:00:00  36019.000000       28.030001   \n",
       "std                              NaN   5087.150742        3.924606   \n",
       "\n",
       "       very_active_minutes  fairly_active_minutes  lightly_active_minutes  \\\n",
       "count           940.000000             940.000000              940.000000   \n",
       "mean             21.164894              13.564894              192.812766   \n",
       "min               0.000000               0.000000                0.000000   \n",
       "25%               0.000000               0.000000              127.000000   \n",
       "50%               4.000000               6.000000              199.000000   \n",
       "75%              32.000000              19.000000              264.000000   \n",
       "max             210.000000             143.000000              518.000000   \n",
       "std              32.844803              19.987404              109.174700   \n",
       "\n",
       "       sedentary_minutes     calories  \n",
       "count         940.000000   940.000000  \n",
       "mean          991.210638  2303.609574  \n",
       "min             0.000000     0.000000  \n",
       "25%           729.750000  1828.500000  \n",
       "50%          1057.500000  2134.000000  \n",
       "75%          1229.500000  2793.250000  \n",
       "max          1440.000000  4900.000000  \n",
       "std           301.267437   718.166862  "
      ]
     },
     "execution_count": 19,
     "metadata": {},
     "output_type": "execute_result"
    }
   ],
   "source": [
    "# measures of central tendency of numerical variables\n",
    "df.describe()"
   ]
  },
  {
   "cell_type": "code",
   "execution_count": 20,
   "id": "cb2a7020",
   "metadata": {
    "execution": {
     "iopub.execute_input": "2024-09-08T13:22:41.605355Z",
     "iopub.status.busy": "2024-09-08T13:22:41.604504Z",
     "iopub.status.idle": "2024-09-08T13:22:41.612931Z",
     "shell.execute_reply": "2024-09-08T13:22:41.611808Z"
    },
    "papermill": {
     "duration": 0.027186,
     "end_time": "2024-09-08T13:22:41.615542",
     "exception": false,
     "start_time": "2024-09-08T13:22:41.588356",
     "status": "completed"
    },
    "tags": []
   },
   "outputs": [
    {
     "name": "stdout",
     "output_type": "stream",
     "text": [
      "very_active_minutes        21.164894\n",
      "fairly_active_minutes      13.564894\n",
      "lightly_active_minutes    192.812766\n",
      "sedentary_minutes         991.210638\n",
      "dtype: float64\n"
     ]
    }
   ],
   "source": [
    "#mean of physical activity\n",
    "df_mean = df[['very_active_minutes', 'fairly_active_minutes', 'lightly_active_minutes', 'sedentary_minutes']].mean()\n",
    "print(df_mean)"
   ]
  },
  {
   "cell_type": "markdown",
   "id": "db440dea",
   "metadata": {
    "papermill": {
     "duration": 0.014611,
     "end_time": "2024-09-08T13:22:41.644939",
     "exception": false,
     "start_time": "2024-09-08T13:22:41.630328",
     "status": "completed"
    },
    "tags": []
   },
   "source": [
    "### Distribuição de valores de 'Intesidade de Atividades Físicas'"
   ]
  },
  {
   "cell_type": "code",
   "execution_count": 21,
   "id": "8fccc99f",
   "metadata": {
    "execution": {
     "iopub.execute_input": "2024-09-08T13:22:41.677992Z",
     "iopub.status.busy": "2024-09-08T13:22:41.677628Z",
     "iopub.status.idle": "2024-09-08T13:22:42.821663Z",
     "shell.execute_reply": "2024-09-08T13:22:42.820621Z"
    },
    "papermill": {
     "duration": 1.16369,
     "end_time": "2024-09-08T13:22:42.824410",
     "exception": false,
     "start_time": "2024-09-08T13:22:41.660720",
     "status": "completed"
    },
    "tags": []
   },
   "outputs": [
    {
     "data": {
      "image/png": "[encoded data removed]",
      "text/plain": [
       "<Figure size 1200x800 with 4 Axes>"
      ]
     },
     "metadata": {},
     "output_type": "display_data"
    }
   ],
   "source": [
    "# Create a chart with 2 rows and 2 columns of subplots\n",
    "fig, axs = plt.subplots(2, 2, figsize=(12, 8))\n",
    "\n",
    "# Customizing\n",
    "colors = ['blue', 'green', 'orange', 'red']\n",
    "\n",
    "# Plot the histograms on each subplot\n",
    "axs[0, 0].hist(df['very_active_minutes'], bins=20, color=colors[0])\n",
    "axs[0, 0].set_title('Minutos muito ativos')\n",
    "\n",
    "axs[0, 1].hist(df['fairly_active_minutes'], bins=20, color=colors[1])\n",
    "axs[0, 1].set_title('Minutos bastante ativos')\n",
    "\n",
    "axs[1, 0].hist(df['lightly_active_minutes'], bins=20, color=colors[2])\n",
    "axs[1, 0].set_title('Minutos levemente ativos')\n",
    "\n",
    "axs[1, 1].hist(df['sedentary_minutes'], bins=20, color=colors[3])\n",
    "axs[1, 1].set_title('Minutos sedentários')\n",
    "\n",
    "# Adjust the layout and display the graphic\n",
    "plt.tight_layout()\n",
    "plt.show()"
   ]
  },
  {
   "cell_type": "markdown",
   "id": "3fc07416",
   "metadata": {
    "papermill": {
     "duration": 0.015774,
     "end_time": "2024-09-08T13:22:42.856569",
     "exception": false,
     "start_time": "2024-09-08T13:22:42.840795",
     "status": "completed"
    },
    "tags": []
   },
   "source": [
    "**Minutos muito ativos e bastante ativos**\n",
    "\n",
    "É possível observar que a cauda à direita implica que poucas pessoas se dedicam a realizar esses tipos de atividade física mais intensa. Havendo uma variabilidade significativa nesse grupo.\n",
    "\n",
    "**Minutos levemente ativos**\n",
    "\n",
    "O histograma dessa variável apresenta uma distribuição mais ampla, com um pico central e cauda mais longa à direita. Ou seja, as pessoas variam bastante na quantidade de tempo deidicado à atividades de baixa intensidade.\n",
    "\n",
    "Comparado aos gráficos anteriores, as pessoas tendem a praticar mais atividades leves do que a atividades moderadas ou intensas.\n",
    "\n",
    "**Minutos sedentários**\n",
    "\n",
    "A distruibuição de minutos sendetários se concentra em valores mais altos. Isso pode significar que a maioria das pessoas são sedentárias pois passam muitos minutos sem realizar atividades físicas. "
   ]
  },
  {
   "cell_type": "markdown",
   "id": "f849d141",
   "metadata": {
    "papermill": {
     "duration": 0.015996,
     "end_time": "2024-09-08T13:22:42.888463",
     "exception": false,
     "start_time": "2024-09-08T13:22:42.872467",
     "status": "completed"
    },
    "tags": []
   },
   "source": [
    "### Comparação das atividades físicas ao longo do tempo"
   ]
  },
  {
   "cell_type": "code",
   "execution_count": 22,
   "id": "f721a14c",
   "metadata": {
    "execution": {
     "iopub.execute_input": "2024-09-08T13:22:42.922705Z",
     "iopub.status.busy": "2024-09-08T13:22:42.921568Z",
     "iopub.status.idle": "2024-09-08T13:22:42.929114Z",
     "shell.execute_reply": "2024-09-08T13:22:42.927910Z"
    },
    "papermill": {
     "duration": 0.027659,
     "end_time": "2024-09-08T13:22:42.931875",
     "exception": false,
     "start_time": "2024-09-08T13:22:42.904216",
     "status": "completed"
    },
    "tags": []
   },
   "outputs": [
    {
     "name": "stdout",
     "output_type": "stream",
     "text": [
      "First date: 2016-04-12 00:00:00\n",
      "Last date: 2016-05-12 00:00:00\n"
     ]
    }
   ],
   "source": [
    "# Checking the first and last records\n",
    "print(f\"First date: {df['activity_date'].min()}\")\n",
    "print(f\"Last date: {df['activity_date'].max()}\")"
   ]
  },
  {
   "cell_type": "markdown",
   "id": "74d8f6c8",
   "metadata": {
    "papermill": {
     "duration": 0.016225,
     "end_time": "2024-09-08T13:22:42.964005",
     "exception": false,
     "start_time": "2024-09-08T13:22:42.947780",
     "status": "completed"
    },
    "tags": []
   },
   "source": [
    "At first sight, the period is one month."
   ]
  },
  {
   "cell_type": "code",
   "execution_count": 23,
   "id": "9520cd0c",
   "metadata": {
    "execution": {
     "iopub.execute_input": "2024-09-08T13:22:42.997390Z",
     "iopub.status.busy": "2024-09-08T13:22:42.996985Z",
     "iopub.status.idle": "2024-09-08T13:22:43.021068Z",
     "shell.execute_reply": "2024-09-08T13:22:43.019831Z"
    },
    "papermill": {
     "duration": 0.043888,
     "end_time": "2024-09-08T13:22:43.023795",
     "exception": false,
     "start_time": "2024-09-08T13:22:42.979907",
     "status": "completed"
    },
    "tags": []
   },
   "outputs": [
    {
     "name": "stdout",
     "output_type": "stream",
     "text": [
      "               very_active_minutes  fairly_active_minutes  \\\n",
      "activity_date                                               \n",
      "2016-04-17                    4227                   2206   \n",
      "2016-04-24                    5237                   3379   \n",
      "2016-05-01                    4702                   3083   \n",
      "2016-05-08                    3885                   2787   \n",
      "2016-05-15                    1844                   1296   \n",
      "\n",
      "               lightly_active_minutes  sedentary_minutes  \n",
      "activity_date                                             \n",
      "2016-04-17                      37748             198314  \n",
      "2016-04-24                      44518             225771  \n",
      "2016-05-01                      43738             218986  \n",
      "2016-05-08                      38641             202371  \n",
      "2016-05-15                      16599              86296  \n"
     ]
    }
   ],
   "source": [
    "# Grouping by week and agg the 'very_active_minutes'\n",
    "week_data = df.groupby(pd.Grouper(key='activity_date', freq=\"W\")).agg({'very_active_minutes': 'sum', 'fairly_active_minutes': 'sum', 'lightly_active_minutes': 'sum', 'sedentary_minutes': 'sum'})\n",
    "print(week_data)"
   ]
  },
  {
   "cell_type": "code",
   "execution_count": 24,
   "id": "6c49092c",
   "metadata": {
    "execution": {
     "iopub.execute_input": "2024-09-08T13:22:43.058494Z",
     "iopub.status.busy": "2024-09-08T13:22:43.058101Z",
     "iopub.status.idle": "2024-09-08T13:22:43.427249Z",
     "shell.execute_reply": "2024-09-08T13:22:43.426177Z"
    },
    "papermill": {
     "duration": 0.389643,
     "end_time": "2024-09-08T13:22:43.430190",
     "exception": false,
     "start_time": "2024-09-08T13:22:43.040547",
     "status": "completed"
    },
    "tags": []
   },
   "outputs": [
    {
     "data": {
      "image/png": "[encoded data removed]",
      "text/plain": [
       "<Figure size 640x480 with 1 Axes>"
      ]
     },
     "metadata": {},
     "output_type": "display_data"
    }
   ],
   "source": [
    "# Plotando um gráfico de linhas com múltiplas linhas\n",
    "week_data.plot(kind='line')\n",
    "plt.xlabel('Semana')\n",
    "plt.ylabel('Minutos')\n",
    "plt.title('Evolução dos minutos por tipo de atividade por semana')\n",
    "plt.show()"
   ]
  },
  {
   "cell_type": "markdown",
   "id": "ca53a9a2",
   "metadata": {
    "papermill": {
     "duration": 0.016786,
     "end_time": "2024-09-08T13:22:43.464792",
     "exception": false,
     "start_time": "2024-09-08T13:22:43.448006",
     "status": "completed"
    },
    "tags": []
   },
   "source": [
    "Confirmando o que foi observado com os histogramas, há muitas pessoas não realizando atividades. Comparando àquelas que realizam algum nível de atividade física, maior parte prefere fazer exerícios de baixa intensidade."
   ]
  }
 ],
 "metadata": {
  "kaggle": {
   "accelerator": "none",
   "dataSources": [
    {
     "datasetId": 1041311,
     "sourceId": 7746251,
     "sourceType": "datasetVersion"
    }
   ],
   "dockerImageVersionId": 30635,
   "isGpuEnabled": false,
   "isInternetEnabled": false,
   "language": "python",
   "sourceType": "notebook"
  },
  "kernelspec": {
   "display_name": "Python 3",
   "language": "python",
   "name": "python3"
  },
  "language_info": {
   "codemirror_mode": {
    "name": "ipython",
    "version": 3
   },
   "file_extension": ".py",
   "mimetype": "text/x-python",
   "name": "python",
   "nbconvert_exporter": "python",
   "pygments_lexer": "ipython3",
   "version": "3.10.12"
  },
  "papermill": {
   "default_parameters": {},
   "duration": 10.320368,
   "end_time": "2024-09-08T13:22:44.103926",
   "environment_variables": {},
   "exception": null,
   "input_path": "__notebook__.ipynb",
   "output_path": "__notebook__.ipynb",
   "parameters": {},
   "start_time": "2024-09-08T13:22:33.783558",
   "version": "2.4.0"
  }
 },
 "nbformat": 4,
 "nbformat_minor": 5
}
